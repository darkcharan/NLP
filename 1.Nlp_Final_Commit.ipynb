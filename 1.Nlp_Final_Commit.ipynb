{
 "cells": [
  {
   "cell_type": "code",
   "execution_count": 1,
   "metadata": {},
   "outputs": [],
   "source": [
    "import pandas as pd\n",
    "import numpy as np\n",
    "import warnings\n",
    "warnings.filterwarnings('ignore')"
   ]
  },
  {
   "cell_type": "code",
   "execution_count": 2,
   "metadata": {},
   "outputs": [],
   "source": [
    "df1 = pd.read_csv('TrainDataset.csv')"
   ]
  },
  {
   "cell_type": "code",
   "execution_count": 3,
   "metadata": {},
   "outputs": [],
   "source": [
    "df2 = pd.read_csv('TestDataset.csv')"
   ]
  },
  {
   "cell_type": "code",
   "execution_count": 4,
   "metadata": {},
   "outputs": [
    {
     "data": {
      "text/html": [
       "<div>\n",
       "<style scoped>\n",
       "    .dataframe tbody tr th:only-of-type {\n",
       "        vertical-align: middle;\n",
       "    }\n",
       "\n",
       "    .dataframe tbody tr th {\n",
       "        vertical-align: top;\n",
       "    }\n",
       "\n",
       "    .dataframe thead th {\n",
       "        text-align: right;\n",
       "    }\n",
       "</style>\n",
       "<table border=\"1\" class=\"dataframe\">\n",
       "  <thead>\n",
       "    <tr style=\"text-align: right;\">\n",
       "      <th></th>\n",
       "      <th>STORY</th>\n",
       "      <th>SECTION</th>\n",
       "    </tr>\n",
       "  </thead>\n",
       "  <tbody>\n",
       "    <tr>\n",
       "      <td>0</td>\n",
       "      <td>The roadshow and the filing of nomination pape...</td>\n",
       "      <td>0</td>\n",
       "    </tr>\n",
       "    <tr>\n",
       "      <td>1</td>\n",
       "      <td>These vulnerabilities could have allowed hacke...</td>\n",
       "      <td>1</td>\n",
       "    </tr>\n",
       "    <tr>\n",
       "      <td>2</td>\n",
       "      <td>\"People will now be able to include music in t...</td>\n",
       "      <td>1</td>\n",
       "    </tr>\n",
       "    <tr>\n",
       "      <td>3</td>\n",
       "      <td>Jersey is expected to have a good start at the...</td>\n",
       "      <td>2</td>\n",
       "    </tr>\n",
       "    <tr>\n",
       "      <td>4</td>\n",
       "      <td>Xiaomi’s unveiling also hints at how Samsung i...</td>\n",
       "      <td>1</td>\n",
       "    </tr>\n",
       "  </tbody>\n",
       "</table>\n",
       "</div>"
      ],
      "text/plain": [
       "                                               STORY  SECTION\n",
       "0  The roadshow and the filing of nomination pape...        0\n",
       "1  These vulnerabilities could have allowed hacke...        1\n",
       "2  \"People will now be able to include music in t...        1\n",
       "3  Jersey is expected to have a good start at the...        2\n",
       "4  Xiaomi’s unveiling also hints at how Samsung i...        1"
      ]
     },
     "execution_count": 4,
     "metadata": {},
     "output_type": "execute_result"
    }
   ],
   "source": [
    "df1.head()"
   ]
  },
  {
   "cell_type": "code",
   "execution_count": 5,
   "metadata": {},
   "outputs": [
    {
     "data": {
      "text/html": [
       "<div>\n",
       "<style scoped>\n",
       "    .dataframe tbody tr th:only-of-type {\n",
       "        vertical-align: middle;\n",
       "    }\n",
       "\n",
       "    .dataframe tbody tr th {\n",
       "        vertical-align: top;\n",
       "    }\n",
       "\n",
       "    .dataframe thead th {\n",
       "        text-align: right;\n",
       "    }\n",
       "</style>\n",
       "<table border=\"1\" class=\"dataframe\">\n",
       "  <thead>\n",
       "    <tr style=\"text-align: right;\">\n",
       "      <th></th>\n",
       "      <th>STORY</th>\n",
       "    </tr>\n",
       "  </thead>\n",
       "  <tbody>\n",
       "    <tr>\n",
       "      <td>0</td>\n",
       "      <td>Privileged to have done this candid and COMPLE...</td>\n",
       "    </tr>\n",
       "    <tr>\n",
       "      <td>1</td>\n",
       "      <td>6) Some analysts expect volatility to remain h...</td>\n",
       "    </tr>\n",
       "    <tr>\n",
       "      <td>2</td>\n",
       "      <td>There is no stopping Marvel Cinematic Universe...</td>\n",
       "    </tr>\n",
       "    <tr>\n",
       "      <td>3</td>\n",
       "      <td>According to Ravi Menon, analyst at Elara Secu...</td>\n",
       "    </tr>\n",
       "    <tr>\n",
       "      <td>4</td>\n",
       "      <td>A complaint against Nadiadwala, known for prod...</td>\n",
       "    </tr>\n",
       "  </tbody>\n",
       "</table>\n",
       "</div>"
      ],
      "text/plain": [
       "                                               STORY\n",
       "0  Privileged to have done this candid and COMPLE...\n",
       "1  6) Some analysts expect volatility to remain h...\n",
       "2  There is no stopping Marvel Cinematic Universe...\n",
       "3  According to Ravi Menon, analyst at Elara Secu...\n",
       "4  A complaint against Nadiadwala, known for prod..."
      ]
     },
     "execution_count": 5,
     "metadata": {},
     "output_type": "execute_result"
    }
   ],
   "source": [
    "df2.head()"
   ]
  },
  {
   "cell_type": "markdown",
   "metadata": {},
   "source": [
    "# Number of Words"
   ]
  },
  {
   "cell_type": "code",
   "execution_count": 6,
   "metadata": {},
   "outputs": [],
   "source": [
    "df1['Number_of_Words'] = df1['STORY'].apply(lambda x: len(str(x).split(\" \")))"
   ]
  },
  {
   "cell_type": "code",
   "execution_count": 7,
   "metadata": {},
   "outputs": [
    {
     "data": {
      "text/html": [
       "<div>\n",
       "<style scoped>\n",
       "    .dataframe tbody tr th:only-of-type {\n",
       "        vertical-align: middle;\n",
       "    }\n",
       "\n",
       "    .dataframe tbody tr th {\n",
       "        vertical-align: top;\n",
       "    }\n",
       "\n",
       "    .dataframe thead th {\n",
       "        text-align: right;\n",
       "    }\n",
       "</style>\n",
       "<table border=\"1\" class=\"dataframe\">\n",
       "  <thead>\n",
       "    <tr style=\"text-align: right;\">\n",
       "      <th></th>\n",
       "      <th>STORY</th>\n",
       "      <th>Number_of_Words</th>\n",
       "    </tr>\n",
       "  </thead>\n",
       "  <tbody>\n",
       "    <tr>\n",
       "      <td>0</td>\n",
       "      <td>The roadshow and the filing of nomination pape...</td>\n",
       "      <td>152</td>\n",
       "    </tr>\n",
       "    <tr>\n",
       "      <td>1</td>\n",
       "      <td>These vulnerabilities could have allowed hacke...</td>\n",
       "      <td>176</td>\n",
       "    </tr>\n",
       "    <tr>\n",
       "      <td>2</td>\n",
       "      <td>\"People will now be able to include music in t...</td>\n",
       "      <td>92</td>\n",
       "    </tr>\n",
       "    <tr>\n",
       "      <td>3</td>\n",
       "      <td>Jersey is expected to have a good start at the...</td>\n",
       "      <td>34</td>\n",
       "    </tr>\n",
       "    <tr>\n",
       "      <td>4</td>\n",
       "      <td>Xiaomi’s unveiling also hints at how Samsung i...</td>\n",
       "      <td>124</td>\n",
       "    </tr>\n",
       "    <tr>\n",
       "      <td>5</td>\n",
       "      <td>Analysts at Edelweiss Securities Ltd point out...</td>\n",
       "      <td>39</td>\n",
       "    </tr>\n",
       "    <tr>\n",
       "      <td>6</td>\n",
       "      <td>The directorial debut of Prithviraj Sukumaran ...</td>\n",
       "      <td>17</td>\n",
       "    </tr>\n",
       "    <tr>\n",
       "      <td>7</td>\n",
       "      <td>Chrome is the most popular web browser, with a...</td>\n",
       "      <td>65</td>\n",
       "    </tr>\n",
       "    <tr>\n",
       "      <td>8</td>\n",
       "      <td>\"Maruti saw a sudden turn in its stock price a...</td>\n",
       "      <td>116</td>\n",
       "    </tr>\n",
       "    <tr>\n",
       "      <td>9</td>\n",
       "      <td>Centrum has also raised TCS target prices high...</td>\n",
       "      <td>80</td>\n",
       "    </tr>\n",
       "    <tr>\n",
       "      <td>10</td>\n",
       "      <td>While Mohanlal will play the titular role in B...</td>\n",
       "      <td>17</td>\n",
       "    </tr>\n",
       "    <tr>\n",
       "      <td>11</td>\n",
       "      <td>Consequently, there has been an explosive grow...</td>\n",
       "      <td>426</td>\n",
       "    </tr>\n",
       "    <tr>\n",
       "      <td>12</td>\n",
       "      <td>Expanding the 'document upload' feature on its...</td>\n",
       "      <td>77</td>\n",
       "    </tr>\n",
       "    <tr>\n",
       "      <td>13</td>\n",
       "      <td>Bose said it was decided at the Left Front mee...</td>\n",
       "      <td>146</td>\n",
       "    </tr>\n",
       "    <tr>\n",
       "      <td>14</td>\n",
       "      <td>Guglielmo Marchetti of Notorious Pictures and ...</td>\n",
       "      <td>24</td>\n",
       "    </tr>\n",
       "  </tbody>\n",
       "</table>\n",
       "</div>"
      ],
      "text/plain": [
       "                                                STORY  Number_of_Words\n",
       "0   The roadshow and the filing of nomination pape...              152\n",
       "1   These vulnerabilities could have allowed hacke...              176\n",
       "2   \"People will now be able to include music in t...               92\n",
       "3   Jersey is expected to have a good start at the...               34\n",
       "4   Xiaomi’s unveiling also hints at how Samsung i...              124\n",
       "5   Analysts at Edelweiss Securities Ltd point out...               39\n",
       "6   The directorial debut of Prithviraj Sukumaran ...               17\n",
       "7   Chrome is the most popular web browser, with a...               65\n",
       "8   \"Maruti saw a sudden turn in its stock price a...              116\n",
       "9   Centrum has also raised TCS target prices high...               80\n",
       "10  While Mohanlal will play the titular role in B...               17\n",
       "11  Consequently, there has been an explosive grow...              426\n",
       "12  Expanding the 'document upload' feature on its...               77\n",
       "13  Bose said it was decided at the Left Front mee...              146\n",
       "14  Guglielmo Marchetti of Notorious Pictures and ...               24"
      ]
     },
     "execution_count": 7,
     "metadata": {},
     "output_type": "execute_result"
    }
   ],
   "source": [
    "df1[['STORY','Number_of_Words']].head(n=15)"
   ]
  },
  {
   "cell_type": "markdown",
   "metadata": {},
   "source": [
    "# Number of Characters"
   ]
  },
  {
   "cell_type": "code",
   "execution_count": 8,
   "metadata": {},
   "outputs": [],
   "source": [
    "df1['Number_of_char'] = df1['STORY'].str.len() "
   ]
  },
  {
   "cell_type": "code",
   "execution_count": 9,
   "metadata": {},
   "outputs": [
    {
     "data": {
      "text/html": [
       "<div>\n",
       "<style scoped>\n",
       "    .dataframe tbody tr th:only-of-type {\n",
       "        vertical-align: middle;\n",
       "    }\n",
       "\n",
       "    .dataframe tbody tr th {\n",
       "        vertical-align: top;\n",
       "    }\n",
       "\n",
       "    .dataframe thead th {\n",
       "        text-align: right;\n",
       "    }\n",
       "</style>\n",
       "<table border=\"1\" class=\"dataframe\">\n",
       "  <thead>\n",
       "    <tr style=\"text-align: right;\">\n",
       "      <th></th>\n",
       "      <th>STORY</th>\n",
       "      <th>Number_of_char</th>\n",
       "    </tr>\n",
       "  </thead>\n",
       "  <tbody>\n",
       "    <tr>\n",
       "      <td>0</td>\n",
       "      <td>The roadshow and the filing of nomination pape...</td>\n",
       "      <td>892</td>\n",
       "    </tr>\n",
       "    <tr>\n",
       "      <td>1</td>\n",
       "      <td>These vulnerabilities could have allowed hacke...</td>\n",
       "      <td>1083</td>\n",
       "    </tr>\n",
       "    <tr>\n",
       "      <td>2</td>\n",
       "      <td>\"People will now be able to include music in t...</td>\n",
       "      <td>535</td>\n",
       "    </tr>\n",
       "    <tr>\n",
       "      <td>3</td>\n",
       "      <td>Jersey is expected to have a good start at the...</td>\n",
       "      <td>181</td>\n",
       "    </tr>\n",
       "    <tr>\n",
       "      <td>4</td>\n",
       "      <td>Xiaomi’s unveiling also hints at how Samsung i...</td>\n",
       "      <td>697</td>\n",
       "    </tr>\n",
       "    <tr>\n",
       "      <td>5</td>\n",
       "      <td>Analysts at Edelweiss Securities Ltd point out...</td>\n",
       "      <td>266</td>\n",
       "    </tr>\n",
       "    <tr>\n",
       "      <td>6</td>\n",
       "      <td>The directorial debut of Prithviraj Sukumaran ...</td>\n",
       "      <td>100</td>\n",
       "    </tr>\n",
       "    <tr>\n",
       "      <td>7</td>\n",
       "      <td>Chrome is the most popular web browser, with a...</td>\n",
       "      <td>372</td>\n",
       "    </tr>\n",
       "    <tr>\n",
       "      <td>8</td>\n",
       "      <td>\"Maruti saw a sudden turn in its stock price a...</td>\n",
       "      <td>710</td>\n",
       "    </tr>\n",
       "    <tr>\n",
       "      <td>9</td>\n",
       "      <td>Centrum has also raised TCS target prices high...</td>\n",
       "      <td>533</td>\n",
       "    </tr>\n",
       "    <tr>\n",
       "      <td>10</td>\n",
       "      <td>While Mohanlal will play the titular role in B...</td>\n",
       "      <td>105</td>\n",
       "    </tr>\n",
       "    <tr>\n",
       "      <td>11</td>\n",
       "      <td>Consequently, there has been an explosive grow...</td>\n",
       "      <td>2727</td>\n",
       "    </tr>\n",
       "    <tr>\n",
       "      <td>12</td>\n",
       "      <td>Expanding the 'document upload' feature on its...</td>\n",
       "      <td>525</td>\n",
       "    </tr>\n",
       "    <tr>\n",
       "      <td>13</td>\n",
       "      <td>Bose said it was decided at the Left Front mee...</td>\n",
       "      <td>881</td>\n",
       "    </tr>\n",
       "    <tr>\n",
       "      <td>14</td>\n",
       "      <td>Guglielmo Marchetti of Notorious Pictures and ...</td>\n",
       "      <td>156</td>\n",
       "    </tr>\n",
       "    <tr>\n",
       "      <td>15</td>\n",
       "      <td>However, some reports suggest that there would...</td>\n",
       "      <td>379</td>\n",
       "    </tr>\n",
       "    <tr>\n",
       "      <td>16</td>\n",
       "      <td>While some scepticism remains about how far an...</td>\n",
       "      <td>625</td>\n",
       "    </tr>\n",
       "    <tr>\n",
       "      <td>17</td>\n",
       "      <td>US West Texas Intermediate (WTI) futures were ...</td>\n",
       "      <td>830</td>\n",
       "    </tr>\n",
       "    <tr>\n",
       "      <td>18</td>\n",
       "      <td>Samsung Electronics Co. unveiled a new range o...</td>\n",
       "      <td>740</td>\n",
       "    </tr>\n",
       "    <tr>\n",
       "      <td>19</td>\n",
       "      <td>While AR Rahman was the super judge of the sin...</td>\n",
       "      <td>262</td>\n",
       "    </tr>\n",
       "  </tbody>\n",
       "</table>\n",
       "</div>"
      ],
      "text/plain": [
       "                                                STORY  Number_of_char\n",
       "0   The roadshow and the filing of nomination pape...             892\n",
       "1   These vulnerabilities could have allowed hacke...            1083\n",
       "2   \"People will now be able to include music in t...             535\n",
       "3   Jersey is expected to have a good start at the...             181\n",
       "4   Xiaomi’s unveiling also hints at how Samsung i...             697\n",
       "5   Analysts at Edelweiss Securities Ltd point out...             266\n",
       "6   The directorial debut of Prithviraj Sukumaran ...             100\n",
       "7   Chrome is the most popular web browser, with a...             372\n",
       "8   \"Maruti saw a sudden turn in its stock price a...             710\n",
       "9   Centrum has also raised TCS target prices high...             533\n",
       "10  While Mohanlal will play the titular role in B...             105\n",
       "11  Consequently, there has been an explosive grow...            2727\n",
       "12  Expanding the 'document upload' feature on its...             525\n",
       "13  Bose said it was decided at the Left Front mee...             881\n",
       "14  Guglielmo Marchetti of Notorious Pictures and ...             156\n",
       "15  However, some reports suggest that there would...             379\n",
       "16  While some scepticism remains about how far an...             625\n",
       "17  US West Texas Intermediate (WTI) futures were ...             830\n",
       "18  Samsung Electronics Co. unveiled a new range o...             740\n",
       "19  While AR Rahman was the super judge of the sin...             262"
      ]
     },
     "execution_count": 9,
     "metadata": {},
     "output_type": "execute_result"
    }
   ],
   "source": [
    "df1[['STORY','Number_of_char']].head(n=20)"
   ]
  },
  {
   "cell_type": "markdown",
   "metadata": {},
   "source": [
    "# Average Number Of Words in Data "
   ]
  },
  {
   "cell_type": "code",
   "execution_count": 10,
   "metadata": {},
   "outputs": [],
   "source": [
    "def avg_word(sentence):    \n",
    "    words = sentence.split()\n",
    "    return (sum(len(word) for word in words)/len(words))"
   ]
  },
  {
   "cell_type": "code",
   "execution_count": 11,
   "metadata": {},
   "outputs": [
    {
     "data": {
      "text/html": [
       "<div>\n",
       "<style scoped>\n",
       "    .dataframe tbody tr th:only-of-type {\n",
       "        vertical-align: middle;\n",
       "    }\n",
       "\n",
       "    .dataframe tbody tr th {\n",
       "        vertical-align: top;\n",
       "    }\n",
       "\n",
       "    .dataframe thead th {\n",
       "        text-align: right;\n",
       "    }\n",
       "</style>\n",
       "<table border=\"1\" class=\"dataframe\">\n",
       "  <thead>\n",
       "    <tr style=\"text-align: right;\">\n",
       "      <th></th>\n",
       "      <th>STORY</th>\n",
       "      <th>Average_words</th>\n",
       "    </tr>\n",
       "  </thead>\n",
       "  <tbody>\n",
       "    <tr>\n",
       "      <td>0</td>\n",
       "      <td>The roadshow and the filing of nomination pape...</td>\n",
       "      <td>4.722581</td>\n",
       "    </tr>\n",
       "    <tr>\n",
       "      <td>1</td>\n",
       "      <td>These vulnerabilities could have allowed hacke...</td>\n",
       "      <td>5.067416</td>\n",
       "    </tr>\n",
       "    <tr>\n",
       "      <td>2</td>\n",
       "      <td>\"People will now be able to include music in t...</td>\n",
       "      <td>4.741935</td>\n",
       "    </tr>\n",
       "    <tr>\n",
       "      <td>3</td>\n",
       "      <td>Jersey is expected to have a good start at the...</td>\n",
       "      <td>4.352941</td>\n",
       "    </tr>\n",
       "    <tr>\n",
       "      <td>4</td>\n",
       "      <td>Xiaomi’s unveiling also hints at how Samsung i...</td>\n",
       "      <td>4.568000</td>\n",
       "    </tr>\n",
       "    <tr>\n",
       "      <td>5</td>\n",
       "      <td>Analysts at Edelweiss Securities Ltd point out...</td>\n",
       "      <td>5.846154</td>\n",
       "    </tr>\n",
       "    <tr>\n",
       "      <td>6</td>\n",
       "      <td>The directorial debut of Prithviraj Sukumaran ...</td>\n",
       "      <td>4.941176</td>\n",
       "    </tr>\n",
       "    <tr>\n",
       "      <td>7</td>\n",
       "      <td>Chrome is the most popular web browser, with a...</td>\n",
       "      <td>4.621212</td>\n",
       "    </tr>\n",
       "    <tr>\n",
       "      <td>8</td>\n",
       "      <td>\"Maruti saw a sudden turn in its stock price a...</td>\n",
       "      <td>5.059829</td>\n",
       "    </tr>\n",
       "    <tr>\n",
       "      <td>9</td>\n",
       "      <td>Centrum has also raised TCS target prices high...</td>\n",
       "      <td>5.567901</td>\n",
       "    </tr>\n",
       "    <tr>\n",
       "      <td>10</td>\n",
       "      <td>While Mohanlal will play the titular role in B...</td>\n",
       "      <td>5.235294</td>\n",
       "    </tr>\n",
       "    <tr>\n",
       "      <td>11</td>\n",
       "      <td>Consequently, there has been an explosive grow...</td>\n",
       "      <td>5.325581</td>\n",
       "    </tr>\n",
       "    <tr>\n",
       "      <td>12</td>\n",
       "      <td>Expanding the 'document upload' feature on its...</td>\n",
       "      <td>5.717949</td>\n",
       "    </tr>\n",
       "    <tr>\n",
       "      <td>13</td>\n",
       "      <td>Bose said it was decided at the Left Front mee...</td>\n",
       "      <td>4.826667</td>\n",
       "    </tr>\n",
       "    <tr>\n",
       "      <td>14</td>\n",
       "      <td>Guglielmo Marchetti of Notorious Pictures and ...</td>\n",
       "      <td>5.541667</td>\n",
       "    </tr>\n",
       "    <tr>\n",
       "      <td>15</td>\n",
       "      <td>However, some reports suggest that there would...</td>\n",
       "      <td>5.196721</td>\n",
       "    </tr>\n",
       "    <tr>\n",
       "      <td>16</td>\n",
       "      <td>While some scepticism remains about how far an...</td>\n",
       "      <td>5.158416</td>\n",
       "    </tr>\n",
       "    <tr>\n",
       "      <td>17</td>\n",
       "      <td>US West Texas Intermediate (WTI) futures were ...</td>\n",
       "      <td>5.036765</td>\n",
       "    </tr>\n",
       "    <tr>\n",
       "      <td>18</td>\n",
       "      <td>Samsung Electronics Co. unveiled a new range o...</td>\n",
       "      <td>5.141667</td>\n",
       "    </tr>\n",
       "    <tr>\n",
       "      <td>19</td>\n",
       "      <td>While AR Rahman was the super judge of the sin...</td>\n",
       "      <td>4.652174</td>\n",
       "    </tr>\n",
       "  </tbody>\n",
       "</table>\n",
       "</div>"
      ],
      "text/plain": [
       "                                                STORY  Average_words\n",
       "0   The roadshow and the filing of nomination pape...       4.722581\n",
       "1   These vulnerabilities could have allowed hacke...       5.067416\n",
       "2   \"People will now be able to include music in t...       4.741935\n",
       "3   Jersey is expected to have a good start at the...       4.352941\n",
       "4   Xiaomi’s unveiling also hints at how Samsung i...       4.568000\n",
       "5   Analysts at Edelweiss Securities Ltd point out...       5.846154\n",
       "6   The directorial debut of Prithviraj Sukumaran ...       4.941176\n",
       "7   Chrome is the most popular web browser, with a...       4.621212\n",
       "8   \"Maruti saw a sudden turn in its stock price a...       5.059829\n",
       "9   Centrum has also raised TCS target prices high...       5.567901\n",
       "10  While Mohanlal will play the titular role in B...       5.235294\n",
       "11  Consequently, there has been an explosive grow...       5.325581\n",
       "12  Expanding the 'document upload' feature on its...       5.717949\n",
       "13  Bose said it was decided at the Left Front mee...       4.826667\n",
       "14  Guglielmo Marchetti of Notorious Pictures and ...       5.541667\n",
       "15  However, some reports suggest that there would...       5.196721\n",
       "16  While some scepticism remains about how far an...       5.158416\n",
       "17  US West Texas Intermediate (WTI) futures were ...       5.036765\n",
       "18  Samsung Electronics Co. unveiled a new range o...       5.141667\n",
       "19  While AR Rahman was the super judge of the sin...       4.652174"
      ]
     },
     "execution_count": 11,
     "metadata": {},
     "output_type": "execute_result"
    }
   ],
   "source": [
    "df1['Average_words'] = df1['STORY'].apply(lambda x: avg_word(x))\n",
    "df1[['STORY','Average_words']].head(n=20)"
   ]
  },
  {
   "cell_type": "markdown",
   "metadata": {},
   "source": [
    "# Number Of Stop-Words  "
   ]
  },
  {
   "cell_type": "code",
   "execution_count": 12,
   "metadata": {},
   "outputs": [],
   "source": [
    "from nltk.corpus import stopwords\n",
    "stop = stopwords.words('english')"
   ]
  },
  {
   "cell_type": "code",
   "execution_count": 13,
   "metadata": {},
   "outputs": [
    {
     "data": {
      "text/html": [
       "<div>\n",
       "<style scoped>\n",
       "    .dataframe tbody tr th:only-of-type {\n",
       "        vertical-align: middle;\n",
       "    }\n",
       "\n",
       "    .dataframe tbody tr th {\n",
       "        vertical-align: top;\n",
       "    }\n",
       "\n",
       "    .dataframe thead th {\n",
       "        text-align: right;\n",
       "    }\n",
       "</style>\n",
       "<table border=\"1\" class=\"dataframe\">\n",
       "  <thead>\n",
       "    <tr style=\"text-align: right;\">\n",
       "      <th></th>\n",
       "      <th>STORY</th>\n",
       "      <th>stopwords</th>\n",
       "    </tr>\n",
       "  </thead>\n",
       "  <tbody>\n",
       "    <tr>\n",
       "      <td>0</td>\n",
       "      <td>The roadshow and the filing of nomination pape...</td>\n",
       "      <td>60</td>\n",
       "    </tr>\n",
       "    <tr>\n",
       "      <td>1</td>\n",
       "      <td>These vulnerabilities could have allowed hacke...</td>\n",
       "      <td>60</td>\n",
       "    </tr>\n",
       "    <tr>\n",
       "      <td>2</td>\n",
       "      <td>\"People will now be able to include music in t...</td>\n",
       "      <td>43</td>\n",
       "    </tr>\n",
       "    <tr>\n",
       "      <td>3</td>\n",
       "      <td>Jersey is expected to have a good start at the...</td>\n",
       "      <td>19</td>\n",
       "    </tr>\n",
       "    <tr>\n",
       "      <td>4</td>\n",
       "      <td>Xiaomi’s unveiling also hints at how Samsung i...</td>\n",
       "      <td>48</td>\n",
       "    </tr>\n",
       "    <tr>\n",
       "      <td>5</td>\n",
       "      <td>Analysts at Edelweiss Securities Ltd point out...</td>\n",
       "      <td>12</td>\n",
       "    </tr>\n",
       "    <tr>\n",
       "      <td>6</td>\n",
       "      <td>The directorial debut of Prithviraj Sukumaran ...</td>\n",
       "      <td>5</td>\n",
       "    </tr>\n",
       "    <tr>\n",
       "      <td>7</td>\n",
       "      <td>Chrome is the most popular web browser, with a...</td>\n",
       "      <td>29</td>\n",
       "    </tr>\n",
       "    <tr>\n",
       "      <td>8</td>\n",
       "      <td>\"Maruti saw a sudden turn in its stock price a...</td>\n",
       "      <td>34</td>\n",
       "    </tr>\n",
       "    <tr>\n",
       "      <td>9</td>\n",
       "      <td>Centrum has also raised TCS target prices high...</td>\n",
       "      <td>18</td>\n",
       "    </tr>\n",
       "    <tr>\n",
       "      <td>10</td>\n",
       "      <td>While Mohanlal will play the titular role in B...</td>\n",
       "      <td>5</td>\n",
       "    </tr>\n",
       "    <tr>\n",
       "      <td>11</td>\n",
       "      <td>Consequently, there has been an explosive grow...</td>\n",
       "      <td>163</td>\n",
       "    </tr>\n",
       "    <tr>\n",
       "      <td>12</td>\n",
       "      <td>Expanding the 'document upload' feature on its...</td>\n",
       "      <td>32</td>\n",
       "    </tr>\n",
       "    <tr>\n",
       "      <td>13</td>\n",
       "      <td>Bose said it was decided at the Left Front mee...</td>\n",
       "      <td>62</td>\n",
       "    </tr>\n",
       "    <tr>\n",
       "      <td>14</td>\n",
       "      <td>Guglielmo Marchetti of Notorious Pictures and ...</td>\n",
       "      <td>11</td>\n",
       "    </tr>\n",
       "    <tr>\n",
       "      <td>15</td>\n",
       "      <td>However, some reports suggest that there would...</td>\n",
       "      <td>21</td>\n",
       "    </tr>\n",
       "    <tr>\n",
       "      <td>16</td>\n",
       "      <td>While some scepticism remains about how far an...</td>\n",
       "      <td>41</td>\n",
       "    </tr>\n",
       "    <tr>\n",
       "      <td>17</td>\n",
       "      <td>US West Texas Intermediate (WTI) futures were ...</td>\n",
       "      <td>38</td>\n",
       "    </tr>\n",
       "    <tr>\n",
       "      <td>18</td>\n",
       "      <td>Samsung Electronics Co. unveiled a new range o...</td>\n",
       "      <td>37</td>\n",
       "    </tr>\n",
       "    <tr>\n",
       "      <td>19</td>\n",
       "      <td>While AR Rahman was the super judge of the sin...</td>\n",
       "      <td>12</td>\n",
       "    </tr>\n",
       "  </tbody>\n",
       "</table>\n",
       "</div>"
      ],
      "text/plain": [
       "                                                STORY  stopwords\n",
       "0   The roadshow and the filing of nomination pape...         60\n",
       "1   These vulnerabilities could have allowed hacke...         60\n",
       "2   \"People will now be able to include music in t...         43\n",
       "3   Jersey is expected to have a good start at the...         19\n",
       "4   Xiaomi’s unveiling also hints at how Samsung i...         48\n",
       "5   Analysts at Edelweiss Securities Ltd point out...         12\n",
       "6   The directorial debut of Prithviraj Sukumaran ...          5\n",
       "7   Chrome is the most popular web browser, with a...         29\n",
       "8   \"Maruti saw a sudden turn in its stock price a...         34\n",
       "9   Centrum has also raised TCS target prices high...         18\n",
       "10  While Mohanlal will play the titular role in B...          5\n",
       "11  Consequently, there has been an explosive grow...        163\n",
       "12  Expanding the 'document upload' feature on its...         32\n",
       "13  Bose said it was decided at the Left Front mee...         62\n",
       "14  Guglielmo Marchetti of Notorious Pictures and ...         11\n",
       "15  However, some reports suggest that there would...         21\n",
       "16  While some scepticism remains about how far an...         41\n",
       "17  US West Texas Intermediate (WTI) futures were ...         38\n",
       "18  Samsung Electronics Co. unveiled a new range o...         37\n",
       "19  While AR Rahman was the super judge of the sin...         12"
      ]
     },
     "execution_count": 13,
     "metadata": {},
     "output_type": "execute_result"
    }
   ],
   "source": [
    "df1['stopwords'] = df1['STORY'].apply(lambda x: len([x for x in x.split() if x in stop]))\n",
    "df1[['STORY','stopwords']].head(n=20)"
   ]
  },
  {
   "cell_type": "markdown",
   "metadata": {},
   "source": [
    "# Hash_Tags in Data"
   ]
  },
  {
   "cell_type": "code",
   "execution_count": 14,
   "metadata": {},
   "outputs": [
    {
     "data": {
      "text/html": [
       "<div>\n",
       "<style scoped>\n",
       "    .dataframe tbody tr th:only-of-type {\n",
       "        vertical-align: middle;\n",
       "    }\n",
       "\n",
       "    .dataframe tbody tr th {\n",
       "        vertical-align: top;\n",
       "    }\n",
       "\n",
       "    .dataframe thead th {\n",
       "        text-align: right;\n",
       "    }\n",
       "</style>\n",
       "<table border=\"1\" class=\"dataframe\">\n",
       "  <thead>\n",
       "    <tr style=\"text-align: right;\">\n",
       "      <th></th>\n",
       "      <th>STORY</th>\n",
       "      <th>hastags</th>\n",
       "    </tr>\n",
       "  </thead>\n",
       "  <tbody>\n",
       "    <tr>\n",
       "      <td>0</td>\n",
       "      <td>The roadshow and the filing of nomination pape...</td>\n",
       "      <td>0</td>\n",
       "    </tr>\n",
       "    <tr>\n",
       "      <td>1</td>\n",
       "      <td>These vulnerabilities could have allowed hacke...</td>\n",
       "      <td>0</td>\n",
       "    </tr>\n",
       "    <tr>\n",
       "      <td>2</td>\n",
       "      <td>\"People will now be able to include music in t...</td>\n",
       "      <td>0</td>\n",
       "    </tr>\n",
       "    <tr>\n",
       "      <td>3</td>\n",
       "      <td>Jersey is expected to have a good start at the...</td>\n",
       "      <td>0</td>\n",
       "    </tr>\n",
       "    <tr>\n",
       "      <td>4</td>\n",
       "      <td>Xiaomi’s unveiling also hints at how Samsung i...</td>\n",
       "      <td>0</td>\n",
       "    </tr>\n",
       "    <tr>\n",
       "      <td>5</td>\n",
       "      <td>Analysts at Edelweiss Securities Ltd point out...</td>\n",
       "      <td>0</td>\n",
       "    </tr>\n",
       "    <tr>\n",
       "      <td>6</td>\n",
       "      <td>The directorial debut of Prithviraj Sukumaran ...</td>\n",
       "      <td>0</td>\n",
       "    </tr>\n",
       "    <tr>\n",
       "      <td>7</td>\n",
       "      <td>Chrome is the most popular web browser, with a...</td>\n",
       "      <td>0</td>\n",
       "    </tr>\n",
       "    <tr>\n",
       "      <td>8</td>\n",
       "      <td>\"Maruti saw a sudden turn in its stock price a...</td>\n",
       "      <td>0</td>\n",
       "    </tr>\n",
       "    <tr>\n",
       "      <td>9</td>\n",
       "      <td>Centrum has also raised TCS target prices high...</td>\n",
       "      <td>0</td>\n",
       "    </tr>\n",
       "    <tr>\n",
       "      <td>10</td>\n",
       "      <td>While Mohanlal will play the titular role in B...</td>\n",
       "      <td>0</td>\n",
       "    </tr>\n",
       "    <tr>\n",
       "      <td>11</td>\n",
       "      <td>Consequently, there has been an explosive grow...</td>\n",
       "      <td>0</td>\n",
       "    </tr>\n",
       "    <tr>\n",
       "      <td>12</td>\n",
       "      <td>Expanding the 'document upload' feature on its...</td>\n",
       "      <td>0</td>\n",
       "    </tr>\n",
       "    <tr>\n",
       "      <td>13</td>\n",
       "      <td>Bose said it was decided at the Left Front mee...</td>\n",
       "      <td>0</td>\n",
       "    </tr>\n",
       "    <tr>\n",
       "      <td>14</td>\n",
       "      <td>Guglielmo Marchetti of Notorious Pictures and ...</td>\n",
       "      <td>0</td>\n",
       "    </tr>\n",
       "    <tr>\n",
       "      <td>15</td>\n",
       "      <td>However, some reports suggest that there would...</td>\n",
       "      <td>0</td>\n",
       "    </tr>\n",
       "    <tr>\n",
       "      <td>16</td>\n",
       "      <td>While some scepticism remains about how far an...</td>\n",
       "      <td>0</td>\n",
       "    </tr>\n",
       "    <tr>\n",
       "      <td>17</td>\n",
       "      <td>US West Texas Intermediate (WTI) futures were ...</td>\n",
       "      <td>0</td>\n",
       "    </tr>\n",
       "    <tr>\n",
       "      <td>18</td>\n",
       "      <td>Samsung Electronics Co. unveiled a new range o...</td>\n",
       "      <td>0</td>\n",
       "    </tr>\n",
       "    <tr>\n",
       "      <td>19</td>\n",
       "      <td>While AR Rahman was the super judge of the sin...</td>\n",
       "      <td>0</td>\n",
       "    </tr>\n",
       "  </tbody>\n",
       "</table>\n",
       "</div>"
      ],
      "text/plain": [
       "                                                STORY  hastags\n",
       "0   The roadshow and the filing of nomination pape...        0\n",
       "1   These vulnerabilities could have allowed hacke...        0\n",
       "2   \"People will now be able to include music in t...        0\n",
       "3   Jersey is expected to have a good start at the...        0\n",
       "4   Xiaomi’s unveiling also hints at how Samsung i...        0\n",
       "5   Analysts at Edelweiss Securities Ltd point out...        0\n",
       "6   The directorial debut of Prithviraj Sukumaran ...        0\n",
       "7   Chrome is the most popular web browser, with a...        0\n",
       "8   \"Maruti saw a sudden turn in its stock price a...        0\n",
       "9   Centrum has also raised TCS target prices high...        0\n",
       "10  While Mohanlal will play the titular role in B...        0\n",
       "11  Consequently, there has been an explosive grow...        0\n",
       "12  Expanding the 'document upload' feature on its...        0\n",
       "13  Bose said it was decided at the Left Front mee...        0\n",
       "14  Guglielmo Marchetti of Notorious Pictures and ...        0\n",
       "15  However, some reports suggest that there would...        0\n",
       "16  While some scepticism remains about how far an...        0\n",
       "17  US West Texas Intermediate (WTI) futures were ...        0\n",
       "18  Samsung Electronics Co. unveiled a new range o...        0\n",
       "19  While AR Rahman was the super judge of the sin...        0"
      ]
     },
     "execution_count": 14,
     "metadata": {},
     "output_type": "execute_result"
    }
   ],
   "source": [
    "df1['hastags'] = df1['STORY'].apply(lambda x: len([x for x in x.split() if x.startswith('#')]))\n",
    "df1[['STORY','hastags']].head(n=20)"
   ]
  },
  {
   "cell_type": "markdown",
   "metadata": {},
   "source": [
    "# Upper_Words in Data"
   ]
  },
  {
   "cell_type": "code",
   "execution_count": 15,
   "metadata": {},
   "outputs": [
    {
     "data": {
      "text/html": [
       "<div>\n",
       "<style scoped>\n",
       "    .dataframe tbody tr th:only-of-type {\n",
       "        vertical-align: middle;\n",
       "    }\n",
       "\n",
       "    .dataframe tbody tr th {\n",
       "        vertical-align: top;\n",
       "    }\n",
       "\n",
       "    .dataframe thead th {\n",
       "        text-align: right;\n",
       "    }\n",
       "</style>\n",
       "<table border=\"1\" class=\"dataframe\">\n",
       "  <thead>\n",
       "    <tr style=\"text-align: right;\">\n",
       "      <th></th>\n",
       "      <th>STORY</th>\n",
       "      <th>upper</th>\n",
       "    </tr>\n",
       "  </thead>\n",
       "  <tbody>\n",
       "    <tr>\n",
       "      <td>0</td>\n",
       "      <td>The roadshow and the filing of nomination pape...</td>\n",
       "      <td>5</td>\n",
       "    </tr>\n",
       "    <tr>\n",
       "      <td>1</td>\n",
       "      <td>These vulnerabilities could have allowed hacke...</td>\n",
       "      <td>6</td>\n",
       "    </tr>\n",
       "    <tr>\n",
       "      <td>2</td>\n",
       "      <td>\"People will now be able to include music in t...</td>\n",
       "      <td>0</td>\n",
       "    </tr>\n",
       "    <tr>\n",
       "      <td>3</td>\n",
       "      <td>Jersey is expected to have a good start at the...</td>\n",
       "      <td>0</td>\n",
       "    </tr>\n",
       "    <tr>\n",
       "      <td>4</td>\n",
       "      <td>Xiaomi’s unveiling also hints at how Samsung i...</td>\n",
       "      <td>6</td>\n",
       "    </tr>\n",
       "  </tbody>\n",
       "</table>\n",
       "</div>"
      ],
      "text/plain": [
       "                                               STORY  upper\n",
       "0  The roadshow and the filing of nomination pape...      5\n",
       "1  These vulnerabilities could have allowed hacke...      6\n",
       "2  \"People will now be able to include music in t...      0\n",
       "3  Jersey is expected to have a good start at the...      0\n",
       "4  Xiaomi’s unveiling also hints at how Samsung i...      6"
      ]
     },
     "execution_count": 15,
     "metadata": {},
     "output_type": "execute_result"
    }
   ],
   "source": [
    "df1['upper'] = df1['STORY'].apply(lambda x: len([x for x in x.split() if x.isupper()]))\n",
    "df1[['STORY','upper']].head()"
   ]
  },
  {
   "cell_type": "markdown",
   "metadata": {},
   "source": [
    "# Lower_Words in Data"
   ]
  },
  {
   "cell_type": "code",
   "execution_count": 16,
   "metadata": {},
   "outputs": [
    {
     "data": {
      "text/html": [
       "<div>\n",
       "<style scoped>\n",
       "    .dataframe tbody tr th:only-of-type {\n",
       "        vertical-align: middle;\n",
       "    }\n",
       "\n",
       "    .dataframe tbody tr th {\n",
       "        vertical-align: top;\n",
       "    }\n",
       "\n",
       "    .dataframe thead th {\n",
       "        text-align: right;\n",
       "    }\n",
       "</style>\n",
       "<table border=\"1\" class=\"dataframe\">\n",
       "  <thead>\n",
       "    <tr style=\"text-align: right;\">\n",
       "      <th></th>\n",
       "      <th>STORY</th>\n",
       "      <th>Lower</th>\n",
       "    </tr>\n",
       "  </thead>\n",
       "  <tbody>\n",
       "    <tr>\n",
       "      <td>0</td>\n",
       "      <td>The roadshow and the filing of nomination pape...</td>\n",
       "      <td>120</td>\n",
       "    </tr>\n",
       "    <tr>\n",
       "      <td>1</td>\n",
       "      <td>These vulnerabilities could have allowed hacke...</td>\n",
       "      <td>148</td>\n",
       "    </tr>\n",
       "    <tr>\n",
       "      <td>2</td>\n",
       "      <td>\"People will now be able to include music in t...</td>\n",
       "      <td>80</td>\n",
       "    </tr>\n",
       "    <tr>\n",
       "      <td>3</td>\n",
       "      <td>Jersey is expected to have a good start at the...</td>\n",
       "      <td>33</td>\n",
       "    </tr>\n",
       "    <tr>\n",
       "      <td>4</td>\n",
       "      <td>Xiaomi’s unveiling also hints at how Samsung i...</td>\n",
       "      <td>95</td>\n",
       "    </tr>\n",
       "  </tbody>\n",
       "</table>\n",
       "</div>"
      ],
      "text/plain": [
       "                                               STORY  Lower\n",
       "0  The roadshow and the filing of nomination pape...    120\n",
       "1  These vulnerabilities could have allowed hacke...    148\n",
       "2  \"People will now be able to include music in t...     80\n",
       "3  Jersey is expected to have a good start at the...     33\n",
       "4  Xiaomi’s unveiling also hints at how Samsung i...     95"
      ]
     },
     "execution_count": 16,
     "metadata": {},
     "output_type": "execute_result"
    }
   ],
   "source": [
    "df1['Lower'] = df1['STORY'].apply(lambda x: len([x for x in x.split() if x.islower()]))\n",
    "df1[['STORY','Lower']].head()"
   ]
  },
  {
   "cell_type": "markdown",
   "metadata": {},
   "source": [
    "# Removing Punctuation"
   ]
  },
  {
   "cell_type": "code",
   "execution_count": 17,
   "metadata": {},
   "outputs": [
    {
     "data": {
      "text/plain": [
       "0    The roadshow and the filing of nomination pape...\n",
       "1    These vulnerabilities could have allowed hacke...\n",
       "2    People will now be able to include music in th...\n",
       "3    Jersey is expected to have a good start at the...\n",
       "4    Xiaomis unveiling also hints at how Samsung is...\n",
       "Name: STORY, dtype: object"
      ]
     },
     "execution_count": 17,
     "metadata": {},
     "output_type": "execute_result"
    }
   ],
   "source": [
    "df1['STORY'] = df1['STORY'].str.replace('[^\\w\\s]','')\n",
    "df1['STORY'].head()"
   ]
  },
  {
   "cell_type": "markdown",
   "metadata": {},
   "source": [
    "# Remove StopWords"
   ]
  },
  {
   "cell_type": "code",
   "execution_count": 18,
   "metadata": {},
   "outputs": [
    {
     "data": {
      "text/plain": [
       "0    The roadshow filing nomination papers also att...\n",
       "1    These vulnerabilities could allowed hackers ac...\n",
       "2    People able include music videos Facebook Inst...\n",
       "3    Jersey expected good start box office attentio...\n",
       "4    Xiaomis unveiling also hints Samsung starting ...\n",
       "Name: STORY, dtype: object"
      ]
     },
     "execution_count": 18,
     "metadata": {},
     "output_type": "execute_result"
    }
   ],
   "source": [
    "from nltk.corpus import stopwords\n",
    "stop = stopwords.words('english')\n",
    "df1['STORY'] = df1['STORY'].apply(lambda x: \" \".join(x for x in x.split() if x not in stop))\n",
    "df1['STORY'].head()"
   ]
  },
  {
   "cell_type": "markdown",
   "metadata": {},
   "source": [
    "# Common Words Removal"
   ]
  },
  {
   "cell_type": "code",
   "execution_count": 19,
   "metadata": {},
   "outputs": [
    {
     "name": "stdout",
     "output_type": "stream",
     "text": [
      "The         6215\n",
      "said        2880\n",
      "also        2026\n",
      "India       1439\n",
      "Congress    1338\n",
      "BJP         1244\n",
      "It          1192\n",
      "In          1139\n",
      "new         1126\n",
      "I           1095\n",
      "dtype: int64\n"
     ]
    }
   ],
   "source": [
    "comm = pd.Series(' '.join(df1['STORY']).split()).value_counts()[:10]\n",
    "print(comm)"
   ]
  },
  {
   "cell_type": "code",
   "execution_count": 20,
   "metadata": {},
   "outputs": [
    {
     "data": {
      "text/plain": [
       "0    roadshow filing nomination papers attempt show...\n",
       "1    These vulnerabilities could allowed hackers ac...\n",
       "2    People able include music videos Facebook Inst...\n",
       "3    Jersey expected good start box office attentio...\n",
       "4    Xiaomis unveiling hints Samsung starting lose ...\n",
       "Name: STORY, dtype: object"
      ]
     },
     "execution_count": 20,
     "metadata": {},
     "output_type": "execute_result"
    }
   ],
   "source": [
    "comm = list(comm.index)\n",
    "df1['STORY'] = df1['STORY'].apply(lambda x: \" \".join(x for x in x.split() if x not in comm))\n",
    "df1['STORY'].head()"
   ]
  },
  {
   "cell_type": "markdown",
   "metadata": {},
   "source": [
    "# Rare Words Removal"
   ]
  },
  {
   "cell_type": "code",
   "execution_count": 21,
   "metadata": {},
   "outputs": [
    {
     "name": "stdout",
     "output_type": "stream",
     "text": [
      "downfall                1\n",
      "Ti                      1\n",
      "appswith                1\n",
      "hellbent                1\n",
      "14000mAh                1\n",
      "specificationsRealme    1\n",
      "discharged              1\n",
      "7621                    1\n",
      "gaze                    1\n",
      "payback                 1\n",
      "dtype: int64\n"
     ]
    }
   ],
   "source": [
    "comm2 = pd.Series(' '.join(df1['STORY']).split()).value_counts()[-10:]\n",
    "print(comm2)"
   ]
  },
  {
   "cell_type": "code",
   "execution_count": 22,
   "metadata": {},
   "outputs": [
    {
     "data": {
      "text/plain": [
       "0    roadshow filing nomination papers attempt show...\n",
       "1    These vulnerabilities could allowed hackers ac...\n",
       "2    People able include music videos Facebook Inst...\n",
       "3    Jersey expected good start box office attentio...\n",
       "4    Xiaomis unveiling hints Samsung starting lose ...\n",
       "Name: STORY, dtype: object"
      ]
     },
     "execution_count": 22,
     "metadata": {},
     "output_type": "execute_result"
    }
   ],
   "source": [
    "comm2 = list(comm2.index)\n",
    "df1['STORY'] = df1['STORY'].apply(lambda x: \" \".join(x for x in x.split() if x not in comm2))\n",
    "df1['STORY'].head()"
   ]
  },
  {
   "cell_type": "code",
   "execution_count": null,
   "metadata": {},
   "outputs": [],
   "source": []
  },
  {
   "cell_type": "markdown",
   "metadata": {},
   "source": [
    "# Lemmatization"
   ]
  },
  {
   "cell_type": "code",
   "execution_count": 23,
   "metadata": {},
   "outputs": [
    {
     "data": {
      "text/plain": [
       "0    roadshow filing nomination paper attempt show ...\n",
       "1    These vulnerability could allowed hacker acces...\n",
       "2    People able include music video Facebook Insta...\n",
       "3    Jersey expected good start box office attentio...\n",
       "4    Xiaomis unveiling hint Samsung starting lose p...\n",
       "Name: STORY, dtype: object"
      ]
     },
     "execution_count": 23,
     "metadata": {},
     "output_type": "execute_result"
    }
   ],
   "source": [
    "from textblob import Word\n",
    "from textblob import TextBlob\n",
    "df1['STORY'] = df1['STORY'].apply(lambda x: \" \".join([Word(word).lemmatize() for word in x.split()]))\n",
    "df1['STORY'].head()"
   ]
  },
  {
   "cell_type": "markdown",
   "metadata": {},
   "source": [
    "# N-grams"
   ]
  },
  {
   "cell_type": "code",
   "execution_count": 24,
   "metadata": {},
   "outputs": [
    {
     "name": "stderr",
     "output_type": "stream",
     "text": [
      "[nltk_data] Downloading package punkt to C:\\Users\\Charan Deep\n",
      "[nltk_data]     Singh\\AppData\\Roaming\\nltk_data...\n",
      "[nltk_data]   Package punkt is already up-to-date!\n"
     ]
    },
    {
     "data": {
      "text/plain": [
       "[WordList(['These', 'vulnerability']),\n",
       " WordList(['vulnerability', 'could']),\n",
       " WordList(['could', 'allowed']),\n",
       " WordList(['allowed', 'hacker']),\n",
       " WordList(['hacker', 'access']),\n",
       " WordList(['access', 'sensitive']),\n",
       " WordList(['sensitive', 'information']),\n",
       " WordList(['information', 'take']),\n",
       " WordList(['take', 'control']),\n",
       " WordList(['control', 'number']),\n",
       " WordList(['number', 'smart']),\n",
       " WordList(['smart', 'home']),\n",
       " WordList(['home', 'device']),\n",
       " WordList(['device', 'platform']),\n",
       " WordList(['platform', 'like']),\n",
       " WordList(['like', 'door']),\n",
       " WordList(['door', 'lock']),\n",
       " WordList(['lock', 'security']),\n",
       " WordList(['security', 'camera']),\n",
       " WordList(['camera', 'thermostat']),\n",
       " WordList(['thermostat', 'NEW']),\n",
       " WordList(['NEW', 'DELHI']),\n",
       " WordList(['DELHI', 'September']),\n",
       " WordList(['September', '2016']),\n",
       " WordList(['2016', 'major']),\n",
       " WordList(['major', 'part']),\n",
       " WordList(['part', 'internet']),\n",
       " WordList(['internet', 'east']),\n",
       " WordList(['east', 'coast']),\n",
       " WordList(['coast', 'US']),\n",
       " WordList(['US', 'went']),\n",
       " WordList(['went', 'blink']),\n",
       " WordList(['blink', 'following']),\n",
       " WordList(['following', 'biggest']),\n",
       " WordList(['biggest', 'cyber']),\n",
       " WordList(['cyber', 'attack']),\n",
       " WordList(['attack', 'history']),\n",
       " WordList(['history', 'internet']),\n",
       " WordList(['internet', 'Now']),\n",
       " WordList(['Now', 'know']),\n",
       " WordList(['know', 'Mirai']),\n",
       " WordList(['Mirai', 'malware']),\n",
       " WordList(['malware', 'triggered']),\n",
       " WordList(['triggered', 'internet']),\n",
       " WordList(['internet', 'thing']),\n",
       " WordList(['thing', 'IoT']),\n",
       " WordList(['IoT', 'botnet']),\n",
       " WordList(['botnet', 'attack']),\n",
       " WordList(['attack', 'took']),\n",
       " WordList(['took', 'big']),\n",
       " WordList(['big', 'website']),\n",
       " WordList(['website', 'including']),\n",
       " WordList(['including', 'Twitter']),\n",
       " WordList(['Twitter', 'Guardian']),\n",
       " WordList(['Guardian', 'Netflix']),\n",
       " WordList(['Netflix', 'Reddit']),\n",
       " WordList(['Reddit', 'CNN']),\n",
       " WordList(['CNN', 'Two']),\n",
       " WordList(['Two', 'year']),\n",
       " WordList(['year', 'later']),\n",
       " WordList(['later', 'July']),\n",
       " WordList(['July', 'Cisco']),\n",
       " WordList(['Cisco', 'Talos']),\n",
       " WordList(['Talos', 'found']),\n",
       " WordList(['found', 'several']),\n",
       " WordList(['several', 'vulnerability']),\n",
       " WordList(['vulnerability', 'firmware']),\n",
       " WordList(['firmware', 'Samsungs']),\n",
       " WordList(['Samsungs', 'SmartThings']),\n",
       " WordList(['SmartThings', 'Hub']),\n",
       " WordList(['Hub', 'platform']),\n",
       " WordList(['platform', 'IOT']),\n",
       " WordList(['IOT', 'device']),\n",
       " WordList(['device', 'These']),\n",
       " WordList(['These', 'vulnerability']),\n",
       " WordList(['vulnerability', 'could']),\n",
       " WordList(['could', 'allowed']),\n",
       " WordList(['allowed', 'hacker']),\n",
       " WordList(['hacker', 'access']),\n",
       " WordList(['access', 'sensitive']),\n",
       " WordList(['sensitive', 'information']),\n",
       " WordList(['information', 'take']),\n",
       " WordList(['take', 'control']),\n",
       " WordList(['control', 'number']),\n",
       " WordList(['number', 'smart']),\n",
       " WordList(['smart', 'home']),\n",
       " WordList(['home', 'device']),\n",
       " WordList(['device', 'platform']),\n",
       " WordList(['platform', 'like']),\n",
       " WordList(['like', 'door']),\n",
       " WordList(['door', 'lock']),\n",
       " WordList(['lock', 'security']),\n",
       " WordList(['security', 'camera']),\n",
       " WordList(['camera', 'thermostat']),\n",
       " WordList(['thermostat', 'These']),\n",
       " WordList(['These', 'device']),\n",
       " WordList(['device', 'found']),\n",
       " WordList(['found', 'Shodan']),\n",
       " WordList(['Shodan', 'search']),\n",
       " WordList(['search', 'engine']),\n",
       " WordList(['engine', 'IoT']),\n",
       " WordList(['IoT', 'device']),\n",
       " WordList(['device', 'using']),\n",
       " WordList(['using', 'Nmap']),\n",
       " WordList(['Nmap', 'scan']),\n",
       " WordList(['scan', 'hacker']),\n",
       " WordList(['hacker', 'identify']),\n",
       " WordList(['identify', 'one']),\n",
       " WordList(['one', 'open']),\n",
       " WordList(['open', 'port']),\n",
       " WordList(['port', 'whose']),\n",
       " WordList(['whose', 'IP']),\n",
       " WordList(['IP', 'address']),\n",
       " WordList(['address', 'visible']),\n",
       " WordList(['visible', 'online'])]"
      ]
     },
     "execution_count": 24,
     "metadata": {},
     "output_type": "execute_result"
    }
   ],
   "source": [
    "import nltk\n",
    "nltk.download('punkt')\n",
    "TextBlob(df1['STORY'][1]).ngrams(2)"
   ]
  },
  {
   "cell_type": "code",
   "execution_count": 25,
   "metadata": {},
   "outputs": [
    {
     "data": {
      "text/plain": [
       "[WordList(['These', 'vulnerability', 'could']),\n",
       " WordList(['vulnerability', 'could', 'allowed']),\n",
       " WordList(['could', 'allowed', 'hacker']),\n",
       " WordList(['allowed', 'hacker', 'access']),\n",
       " WordList(['hacker', 'access', 'sensitive']),\n",
       " WordList(['access', 'sensitive', 'information']),\n",
       " WordList(['sensitive', 'information', 'take']),\n",
       " WordList(['information', 'take', 'control']),\n",
       " WordList(['take', 'control', 'number']),\n",
       " WordList(['control', 'number', 'smart']),\n",
       " WordList(['number', 'smart', 'home']),\n",
       " WordList(['smart', 'home', 'device']),\n",
       " WordList(['home', 'device', 'platform']),\n",
       " WordList(['device', 'platform', 'like']),\n",
       " WordList(['platform', 'like', 'door']),\n",
       " WordList(['like', 'door', 'lock']),\n",
       " WordList(['door', 'lock', 'security']),\n",
       " WordList(['lock', 'security', 'camera']),\n",
       " WordList(['security', 'camera', 'thermostat']),\n",
       " WordList(['camera', 'thermostat', 'NEW']),\n",
       " WordList(['thermostat', 'NEW', 'DELHI']),\n",
       " WordList(['NEW', 'DELHI', 'September']),\n",
       " WordList(['DELHI', 'September', '2016']),\n",
       " WordList(['September', '2016', 'major']),\n",
       " WordList(['2016', 'major', 'part']),\n",
       " WordList(['major', 'part', 'internet']),\n",
       " WordList(['part', 'internet', 'east']),\n",
       " WordList(['internet', 'east', 'coast']),\n",
       " WordList(['east', 'coast', 'US']),\n",
       " WordList(['coast', 'US', 'went']),\n",
       " WordList(['US', 'went', 'blink']),\n",
       " WordList(['went', 'blink', 'following']),\n",
       " WordList(['blink', 'following', 'biggest']),\n",
       " WordList(['following', 'biggest', 'cyber']),\n",
       " WordList(['biggest', 'cyber', 'attack']),\n",
       " WordList(['cyber', 'attack', 'history']),\n",
       " WordList(['attack', 'history', 'internet']),\n",
       " WordList(['history', 'internet', 'Now']),\n",
       " WordList(['internet', 'Now', 'know']),\n",
       " WordList(['Now', 'know', 'Mirai']),\n",
       " WordList(['know', 'Mirai', 'malware']),\n",
       " WordList(['Mirai', 'malware', 'triggered']),\n",
       " WordList(['malware', 'triggered', 'internet']),\n",
       " WordList(['triggered', 'internet', 'thing']),\n",
       " WordList(['internet', 'thing', 'IoT']),\n",
       " WordList(['thing', 'IoT', 'botnet']),\n",
       " WordList(['IoT', 'botnet', 'attack']),\n",
       " WordList(['botnet', 'attack', 'took']),\n",
       " WordList(['attack', 'took', 'big']),\n",
       " WordList(['took', 'big', 'website']),\n",
       " WordList(['big', 'website', 'including']),\n",
       " WordList(['website', 'including', 'Twitter']),\n",
       " WordList(['including', 'Twitter', 'Guardian']),\n",
       " WordList(['Twitter', 'Guardian', 'Netflix']),\n",
       " WordList(['Guardian', 'Netflix', 'Reddit']),\n",
       " WordList(['Netflix', 'Reddit', 'CNN']),\n",
       " WordList(['Reddit', 'CNN', 'Two']),\n",
       " WordList(['CNN', 'Two', 'year']),\n",
       " WordList(['Two', 'year', 'later']),\n",
       " WordList(['year', 'later', 'July']),\n",
       " WordList(['later', 'July', 'Cisco']),\n",
       " WordList(['July', 'Cisco', 'Talos']),\n",
       " WordList(['Cisco', 'Talos', 'found']),\n",
       " WordList(['Talos', 'found', 'several']),\n",
       " WordList(['found', 'several', 'vulnerability']),\n",
       " WordList(['several', 'vulnerability', 'firmware']),\n",
       " WordList(['vulnerability', 'firmware', 'Samsungs']),\n",
       " WordList(['firmware', 'Samsungs', 'SmartThings']),\n",
       " WordList(['Samsungs', 'SmartThings', 'Hub']),\n",
       " WordList(['SmartThings', 'Hub', 'platform']),\n",
       " WordList(['Hub', 'platform', 'IOT']),\n",
       " WordList(['platform', 'IOT', 'device']),\n",
       " WordList(['IOT', 'device', 'These']),\n",
       " WordList(['device', 'These', 'vulnerability']),\n",
       " WordList(['These', 'vulnerability', 'could']),\n",
       " WordList(['vulnerability', 'could', 'allowed']),\n",
       " WordList(['could', 'allowed', 'hacker']),\n",
       " WordList(['allowed', 'hacker', 'access']),\n",
       " WordList(['hacker', 'access', 'sensitive']),\n",
       " WordList(['access', 'sensitive', 'information']),\n",
       " WordList(['sensitive', 'information', 'take']),\n",
       " WordList(['information', 'take', 'control']),\n",
       " WordList(['take', 'control', 'number']),\n",
       " WordList(['control', 'number', 'smart']),\n",
       " WordList(['number', 'smart', 'home']),\n",
       " WordList(['smart', 'home', 'device']),\n",
       " WordList(['home', 'device', 'platform']),\n",
       " WordList(['device', 'platform', 'like']),\n",
       " WordList(['platform', 'like', 'door']),\n",
       " WordList(['like', 'door', 'lock']),\n",
       " WordList(['door', 'lock', 'security']),\n",
       " WordList(['lock', 'security', 'camera']),\n",
       " WordList(['security', 'camera', 'thermostat']),\n",
       " WordList(['camera', 'thermostat', 'These']),\n",
       " WordList(['thermostat', 'These', 'device']),\n",
       " WordList(['These', 'device', 'found']),\n",
       " WordList(['device', 'found', 'Shodan']),\n",
       " WordList(['found', 'Shodan', 'search']),\n",
       " WordList(['Shodan', 'search', 'engine']),\n",
       " WordList(['search', 'engine', 'IoT']),\n",
       " WordList(['engine', 'IoT', 'device']),\n",
       " WordList(['IoT', 'device', 'using']),\n",
       " WordList(['device', 'using', 'Nmap']),\n",
       " WordList(['using', 'Nmap', 'scan']),\n",
       " WordList(['Nmap', 'scan', 'hacker']),\n",
       " WordList(['scan', 'hacker', 'identify']),\n",
       " WordList(['hacker', 'identify', 'one']),\n",
       " WordList(['identify', 'one', 'open']),\n",
       " WordList(['one', 'open', 'port']),\n",
       " WordList(['open', 'port', 'whose']),\n",
       " WordList(['port', 'whose', 'IP']),\n",
       " WordList(['whose', 'IP', 'address']),\n",
       " WordList(['IP', 'address', 'visible']),\n",
       " WordList(['address', 'visible', 'online'])]"
      ]
     },
     "execution_count": 25,
     "metadata": {},
     "output_type": "execute_result"
    }
   ],
   "source": [
    "TextBlob(df1['STORY'][1]).ngrams(3)"
   ]
  },
  {
   "cell_type": "code",
   "execution_count": 26,
   "metadata": {},
   "outputs": [
    {
     "data": {
      "text/plain": [
       "[WordList(['These', 'vulnerability', 'could', 'allowed', 'hacker']),\n",
       " WordList(['vulnerability', 'could', 'allowed', 'hacker', 'access']),\n",
       " WordList(['could', 'allowed', 'hacker', 'access', 'sensitive']),\n",
       " WordList(['allowed', 'hacker', 'access', 'sensitive', 'information']),\n",
       " WordList(['hacker', 'access', 'sensitive', 'information', 'take']),\n",
       " WordList(['access', 'sensitive', 'information', 'take', 'control']),\n",
       " WordList(['sensitive', 'information', 'take', 'control', 'number']),\n",
       " WordList(['information', 'take', 'control', 'number', 'smart']),\n",
       " WordList(['take', 'control', 'number', 'smart', 'home']),\n",
       " WordList(['control', 'number', 'smart', 'home', 'device']),\n",
       " WordList(['number', 'smart', 'home', 'device', 'platform']),\n",
       " WordList(['smart', 'home', 'device', 'platform', 'like']),\n",
       " WordList(['home', 'device', 'platform', 'like', 'door']),\n",
       " WordList(['device', 'platform', 'like', 'door', 'lock']),\n",
       " WordList(['platform', 'like', 'door', 'lock', 'security']),\n",
       " WordList(['like', 'door', 'lock', 'security', 'camera']),\n",
       " WordList(['door', 'lock', 'security', 'camera', 'thermostat']),\n",
       " WordList(['lock', 'security', 'camera', 'thermostat', 'NEW']),\n",
       " WordList(['security', 'camera', 'thermostat', 'NEW', 'DELHI']),\n",
       " WordList(['camera', 'thermostat', 'NEW', 'DELHI', 'September']),\n",
       " WordList(['thermostat', 'NEW', 'DELHI', 'September', '2016']),\n",
       " WordList(['NEW', 'DELHI', 'September', '2016', 'major']),\n",
       " WordList(['DELHI', 'September', '2016', 'major', 'part']),\n",
       " WordList(['September', '2016', 'major', 'part', 'internet']),\n",
       " WordList(['2016', 'major', 'part', 'internet', 'east']),\n",
       " WordList(['major', 'part', 'internet', 'east', 'coast']),\n",
       " WordList(['part', 'internet', 'east', 'coast', 'US']),\n",
       " WordList(['internet', 'east', 'coast', 'US', 'went']),\n",
       " WordList(['east', 'coast', 'US', 'went', 'blink']),\n",
       " WordList(['coast', 'US', 'went', 'blink', 'following']),\n",
       " WordList(['US', 'went', 'blink', 'following', 'biggest']),\n",
       " WordList(['went', 'blink', 'following', 'biggest', 'cyber']),\n",
       " WordList(['blink', 'following', 'biggest', 'cyber', 'attack']),\n",
       " WordList(['following', 'biggest', 'cyber', 'attack', 'history']),\n",
       " WordList(['biggest', 'cyber', 'attack', 'history', 'internet']),\n",
       " WordList(['cyber', 'attack', 'history', 'internet', 'Now']),\n",
       " WordList(['attack', 'history', 'internet', 'Now', 'know']),\n",
       " WordList(['history', 'internet', 'Now', 'know', 'Mirai']),\n",
       " WordList(['internet', 'Now', 'know', 'Mirai', 'malware']),\n",
       " WordList(['Now', 'know', 'Mirai', 'malware', 'triggered']),\n",
       " WordList(['know', 'Mirai', 'malware', 'triggered', 'internet']),\n",
       " WordList(['Mirai', 'malware', 'triggered', 'internet', 'thing']),\n",
       " WordList(['malware', 'triggered', 'internet', 'thing', 'IoT']),\n",
       " WordList(['triggered', 'internet', 'thing', 'IoT', 'botnet']),\n",
       " WordList(['internet', 'thing', 'IoT', 'botnet', 'attack']),\n",
       " WordList(['thing', 'IoT', 'botnet', 'attack', 'took']),\n",
       " WordList(['IoT', 'botnet', 'attack', 'took', 'big']),\n",
       " WordList(['botnet', 'attack', 'took', 'big', 'website']),\n",
       " WordList(['attack', 'took', 'big', 'website', 'including']),\n",
       " WordList(['took', 'big', 'website', 'including', 'Twitter']),\n",
       " WordList(['big', 'website', 'including', 'Twitter', 'Guardian']),\n",
       " WordList(['website', 'including', 'Twitter', 'Guardian', 'Netflix']),\n",
       " WordList(['including', 'Twitter', 'Guardian', 'Netflix', 'Reddit']),\n",
       " WordList(['Twitter', 'Guardian', 'Netflix', 'Reddit', 'CNN']),\n",
       " WordList(['Guardian', 'Netflix', 'Reddit', 'CNN', 'Two']),\n",
       " WordList(['Netflix', 'Reddit', 'CNN', 'Two', 'year']),\n",
       " WordList(['Reddit', 'CNN', 'Two', 'year', 'later']),\n",
       " WordList(['CNN', 'Two', 'year', 'later', 'July']),\n",
       " WordList(['Two', 'year', 'later', 'July', 'Cisco']),\n",
       " WordList(['year', 'later', 'July', 'Cisco', 'Talos']),\n",
       " WordList(['later', 'July', 'Cisco', 'Talos', 'found']),\n",
       " WordList(['July', 'Cisco', 'Talos', 'found', 'several']),\n",
       " WordList(['Cisco', 'Talos', 'found', 'several', 'vulnerability']),\n",
       " WordList(['Talos', 'found', 'several', 'vulnerability', 'firmware']),\n",
       " WordList(['found', 'several', 'vulnerability', 'firmware', 'Samsungs']),\n",
       " WordList(['several', 'vulnerability', 'firmware', 'Samsungs', 'SmartThings']),\n",
       " WordList(['vulnerability', 'firmware', 'Samsungs', 'SmartThings', 'Hub']),\n",
       " WordList(['firmware', 'Samsungs', 'SmartThings', 'Hub', 'platform']),\n",
       " WordList(['Samsungs', 'SmartThings', 'Hub', 'platform', 'IOT']),\n",
       " WordList(['SmartThings', 'Hub', 'platform', 'IOT', 'device']),\n",
       " WordList(['Hub', 'platform', 'IOT', 'device', 'These']),\n",
       " WordList(['platform', 'IOT', 'device', 'These', 'vulnerability']),\n",
       " WordList(['IOT', 'device', 'These', 'vulnerability', 'could']),\n",
       " WordList(['device', 'These', 'vulnerability', 'could', 'allowed']),\n",
       " WordList(['These', 'vulnerability', 'could', 'allowed', 'hacker']),\n",
       " WordList(['vulnerability', 'could', 'allowed', 'hacker', 'access']),\n",
       " WordList(['could', 'allowed', 'hacker', 'access', 'sensitive']),\n",
       " WordList(['allowed', 'hacker', 'access', 'sensitive', 'information']),\n",
       " WordList(['hacker', 'access', 'sensitive', 'information', 'take']),\n",
       " WordList(['access', 'sensitive', 'information', 'take', 'control']),\n",
       " WordList(['sensitive', 'information', 'take', 'control', 'number']),\n",
       " WordList(['information', 'take', 'control', 'number', 'smart']),\n",
       " WordList(['take', 'control', 'number', 'smart', 'home']),\n",
       " WordList(['control', 'number', 'smart', 'home', 'device']),\n",
       " WordList(['number', 'smart', 'home', 'device', 'platform']),\n",
       " WordList(['smart', 'home', 'device', 'platform', 'like']),\n",
       " WordList(['home', 'device', 'platform', 'like', 'door']),\n",
       " WordList(['device', 'platform', 'like', 'door', 'lock']),\n",
       " WordList(['platform', 'like', 'door', 'lock', 'security']),\n",
       " WordList(['like', 'door', 'lock', 'security', 'camera']),\n",
       " WordList(['door', 'lock', 'security', 'camera', 'thermostat']),\n",
       " WordList(['lock', 'security', 'camera', 'thermostat', 'These']),\n",
       " WordList(['security', 'camera', 'thermostat', 'These', 'device']),\n",
       " WordList(['camera', 'thermostat', 'These', 'device', 'found']),\n",
       " WordList(['thermostat', 'These', 'device', 'found', 'Shodan']),\n",
       " WordList(['These', 'device', 'found', 'Shodan', 'search']),\n",
       " WordList(['device', 'found', 'Shodan', 'search', 'engine']),\n",
       " WordList(['found', 'Shodan', 'search', 'engine', 'IoT']),\n",
       " WordList(['Shodan', 'search', 'engine', 'IoT', 'device']),\n",
       " WordList(['search', 'engine', 'IoT', 'device', 'using']),\n",
       " WordList(['engine', 'IoT', 'device', 'using', 'Nmap']),\n",
       " WordList(['IoT', 'device', 'using', 'Nmap', 'scan']),\n",
       " WordList(['device', 'using', 'Nmap', 'scan', 'hacker']),\n",
       " WordList(['using', 'Nmap', 'scan', 'hacker', 'identify']),\n",
       " WordList(['Nmap', 'scan', 'hacker', 'identify', 'one']),\n",
       " WordList(['scan', 'hacker', 'identify', 'one', 'open']),\n",
       " WordList(['hacker', 'identify', 'one', 'open', 'port']),\n",
       " WordList(['identify', 'one', 'open', 'port', 'whose']),\n",
       " WordList(['one', 'open', 'port', 'whose', 'IP']),\n",
       " WordList(['open', 'port', 'whose', 'IP', 'address']),\n",
       " WordList(['port', 'whose', 'IP', 'address', 'visible']),\n",
       " WordList(['whose', 'IP', 'address', 'visible', 'online'])]"
      ]
     },
     "execution_count": 26,
     "metadata": {},
     "output_type": "execute_result"
    }
   ],
   "source": [
    "TextBlob(df1['STORY'][1]).ngrams(5)"
   ]
  },
  {
   "cell_type": "markdown",
   "metadata": {},
   "source": [
    "# Term frequency"
   ]
  },
  {
   "cell_type": "code",
   "execution_count": 27,
   "metadata": {},
   "outputs": [
    {
     "data": {
      "text/html": [
       "<div>\n",
       "<style scoped>\n",
       "    .dataframe tbody tr th:only-of-type {\n",
       "        vertical-align: middle;\n",
       "    }\n",
       "\n",
       "    .dataframe tbody tr th {\n",
       "        vertical-align: top;\n",
       "    }\n",
       "\n",
       "    .dataframe thead th {\n",
       "        text-align: right;\n",
       "    }\n",
       "</style>\n",
       "<table border=\"1\" class=\"dataframe\">\n",
       "  <thead>\n",
       "    <tr style=\"text-align: right;\">\n",
       "      <th></th>\n",
       "      <th>STORY</th>\n",
       "      <th>tf</th>\n",
       "    </tr>\n",
       "  </thead>\n",
       "  <tbody>\n",
       "    <tr>\n",
       "      <td>0</td>\n",
       "      <td>device</td>\n",
       "      <td>5</td>\n",
       "    </tr>\n",
       "    <tr>\n",
       "      <td>1</td>\n",
       "      <td>platform</td>\n",
       "      <td>3</td>\n",
       "    </tr>\n",
       "    <tr>\n",
       "      <td>2</td>\n",
       "      <td>hacker</td>\n",
       "      <td>3</td>\n",
       "    </tr>\n",
       "    <tr>\n",
       "      <td>3</td>\n",
       "      <td>internet</td>\n",
       "      <td>3</td>\n",
       "    </tr>\n",
       "    <tr>\n",
       "      <td>4</td>\n",
       "      <td>These</td>\n",
       "      <td>3</td>\n",
       "    </tr>\n",
       "    <tr>\n",
       "      <td>...</td>\n",
       "      <td>...</td>\n",
       "      <td>...</td>\n",
       "    </tr>\n",
       "    <tr>\n",
       "      <td>78</td>\n",
       "      <td>Guardian</td>\n",
       "      <td>1</td>\n",
       "    </tr>\n",
       "    <tr>\n",
       "      <td>79</td>\n",
       "      <td>NEW</td>\n",
       "      <td>1</td>\n",
       "    </tr>\n",
       "    <tr>\n",
       "      <td>80</td>\n",
       "      <td>know</td>\n",
       "      <td>1</td>\n",
       "    </tr>\n",
       "    <tr>\n",
       "      <td>81</td>\n",
       "      <td>port</td>\n",
       "      <td>1</td>\n",
       "    </tr>\n",
       "    <tr>\n",
       "      <td>82</td>\n",
       "      <td>CNN</td>\n",
       "      <td>1</td>\n",
       "    </tr>\n",
       "  </tbody>\n",
       "</table>\n",
       "<p>83 rows × 2 columns</p>\n",
       "</div>"
      ],
      "text/plain": [
       "       STORY  tf\n",
       "0     device   5\n",
       "1   platform   3\n",
       "2     hacker   3\n",
       "3   internet   3\n",
       "4      These   3\n",
       "..       ...  ..\n",
       "78  Guardian   1\n",
       "79       NEW   1\n",
       "80      know   1\n",
       "81      port   1\n",
       "82       CNN   1\n",
       "\n",
       "[83 rows x 2 columns]"
      ]
     },
     "execution_count": 27,
     "metadata": {},
     "output_type": "execute_result"
    }
   ],
   "source": [
    "tf1 = (df1['STORY'][1:2]).apply(lambda x: pd.value_counts(x.split(\" \"))).sum(axis = 0).reset_index()\n",
    "tf1.columns = ['STORY','tf']\n",
    "tf1"
   ]
  },
  {
   "cell_type": "markdown",
   "metadata": {},
   "source": [
    "# Inverse Document Frequency"
   ]
  },
  {
   "cell_type": "code",
   "execution_count": 28,
   "metadata": {},
   "outputs": [
    {
     "data": {
      "text/html": [
       "<div>\n",
       "<style scoped>\n",
       "    .dataframe tbody tr th:only-of-type {\n",
       "        vertical-align: middle;\n",
       "    }\n",
       "\n",
       "    .dataframe tbody tr th {\n",
       "        vertical-align: top;\n",
       "    }\n",
       "\n",
       "    .dataframe thead th {\n",
       "        text-align: right;\n",
       "    }\n",
       "</style>\n",
       "<table border=\"1\" class=\"dataframe\">\n",
       "  <thead>\n",
       "    <tr style=\"text-align: right;\">\n",
       "      <th></th>\n",
       "      <th>STORY</th>\n",
       "      <th>tf</th>\n",
       "      <th>idf</th>\n",
       "    </tr>\n",
       "  </thead>\n",
       "  <tbody>\n",
       "    <tr>\n",
       "      <td>0</td>\n",
       "      <td>device</td>\n",
       "      <td>5</td>\n",
       "      <td>2.643327</td>\n",
       "    </tr>\n",
       "    <tr>\n",
       "      <td>1</td>\n",
       "      <td>platform</td>\n",
       "      <td>3</td>\n",
       "      <td>3.022640</td>\n",
       "    </tr>\n",
       "    <tr>\n",
       "      <td>2</td>\n",
       "      <td>hacker</td>\n",
       "      <td>3</td>\n",
       "      <td>4.573237</td>\n",
       "    </tr>\n",
       "    <tr>\n",
       "      <td>3</td>\n",
       "      <td>internet</td>\n",
       "      <td>3</td>\n",
       "      <td>3.920581</td>\n",
       "    </tr>\n",
       "    <tr>\n",
       "      <td>4</td>\n",
       "      <td>These</td>\n",
       "      <td>3</td>\n",
       "      <td>3.833570</td>\n",
       "    </tr>\n",
       "    <tr>\n",
       "      <td>...</td>\n",
       "      <td>...</td>\n",
       "      <td>...</td>\n",
       "      <td>...</td>\n",
       "    </tr>\n",
       "    <tr>\n",
       "      <td>78</td>\n",
       "      <td>Guardian</td>\n",
       "      <td>1</td>\n",
       "      <td>5.826000</td>\n",
       "    </tr>\n",
       "    <tr>\n",
       "      <td>79</td>\n",
       "      <td>NEW</td>\n",
       "      <td>1</td>\n",
       "      <td>3.971440</td>\n",
       "    </tr>\n",
       "    <tr>\n",
       "      <td>80</td>\n",
       "      <td>know</td>\n",
       "      <td>1</td>\n",
       "      <td>2.661933</td>\n",
       "    </tr>\n",
       "    <tr>\n",
       "      <td>81</td>\n",
       "      <td>port</td>\n",
       "      <td>1</td>\n",
       "      <td>1.341116</td>\n",
       "    </tr>\n",
       "    <tr>\n",
       "      <td>82</td>\n",
       "      <td>CNN</td>\n",
       "      <td>1</td>\n",
       "      <td>7.617760</td>\n",
       "    </tr>\n",
       "  </tbody>\n",
       "</table>\n",
       "<p>83 rows × 3 columns</p>\n",
       "</div>"
      ],
      "text/plain": [
       "       STORY  tf       idf\n",
       "0     device   5  2.643327\n",
       "1   platform   3  3.022640\n",
       "2     hacker   3  4.573237\n",
       "3   internet   3  3.920581\n",
       "4      These   3  3.833570\n",
       "..       ...  ..       ...\n",
       "78  Guardian   1  5.826000\n",
       "79       NEW   1  3.971440\n",
       "80      know   1  2.661933\n",
       "81      port   1  1.341116\n",
       "82       CNN   1  7.617760\n",
       "\n",
       "[83 rows x 3 columns]"
      ]
     },
     "execution_count": 28,
     "metadata": {},
     "output_type": "execute_result"
    }
   ],
   "source": [
    "for i,word in enumerate(tf1['STORY']):\n",
    "    tf1.loc[i, 'idf'] = np.log(df1.shape[0]/(len(df1[df1['STORY'].str.contains(word)])))\n",
    "\n",
    "tf1"
   ]
  },
  {
   "cell_type": "markdown",
   "metadata": {},
   "source": [
    "# Term Frequency – Inverse Document Frequency"
   ]
  },
  {
   "cell_type": "code",
   "execution_count": 29,
   "metadata": {},
   "outputs": [
    {
     "data": {
      "text/html": [
       "<div>\n",
       "<style scoped>\n",
       "    .dataframe tbody tr th:only-of-type {\n",
       "        vertical-align: middle;\n",
       "    }\n",
       "\n",
       "    .dataframe tbody tr th {\n",
       "        vertical-align: top;\n",
       "    }\n",
       "\n",
       "    .dataframe thead th {\n",
       "        text-align: right;\n",
       "    }\n",
       "</style>\n",
       "<table border=\"1\" class=\"dataframe\">\n",
       "  <thead>\n",
       "    <tr style=\"text-align: right;\">\n",
       "      <th></th>\n",
       "      <th>STORY</th>\n",
       "      <th>tf</th>\n",
       "      <th>idf</th>\n",
       "      <th>tfidf</th>\n",
       "    </tr>\n",
       "  </thead>\n",
       "  <tbody>\n",
       "    <tr>\n",
       "      <td>0</td>\n",
       "      <td>device</td>\n",
       "      <td>5</td>\n",
       "      <td>2.643327</td>\n",
       "      <td>13.216637</td>\n",
       "    </tr>\n",
       "    <tr>\n",
       "      <td>1</td>\n",
       "      <td>platform</td>\n",
       "      <td>3</td>\n",
       "      <td>3.022640</td>\n",
       "      <td>9.067919</td>\n",
       "    </tr>\n",
       "    <tr>\n",
       "      <td>2</td>\n",
       "      <td>hacker</td>\n",
       "      <td>3</td>\n",
       "      <td>4.573237</td>\n",
       "      <td>13.719711</td>\n",
       "    </tr>\n",
       "    <tr>\n",
       "      <td>3</td>\n",
       "      <td>internet</td>\n",
       "      <td>3</td>\n",
       "      <td>3.920581</td>\n",
       "      <td>11.761744</td>\n",
       "    </tr>\n",
       "    <tr>\n",
       "      <td>4</td>\n",
       "      <td>These</td>\n",
       "      <td>3</td>\n",
       "      <td>3.833570</td>\n",
       "      <td>11.500710</td>\n",
       "    </tr>\n",
       "    <tr>\n",
       "      <td>...</td>\n",
       "      <td>...</td>\n",
       "      <td>...</td>\n",
       "      <td>...</td>\n",
       "      <td>...</td>\n",
       "    </tr>\n",
       "    <tr>\n",
       "      <td>78</td>\n",
       "      <td>Guardian</td>\n",
       "      <td>1</td>\n",
       "      <td>5.826000</td>\n",
       "      <td>5.826000</td>\n",
       "    </tr>\n",
       "    <tr>\n",
       "      <td>79</td>\n",
       "      <td>NEW</td>\n",
       "      <td>1</td>\n",
       "      <td>3.971440</td>\n",
       "      <td>3.971440</td>\n",
       "    </tr>\n",
       "    <tr>\n",
       "      <td>80</td>\n",
       "      <td>know</td>\n",
       "      <td>1</td>\n",
       "      <td>2.661933</td>\n",
       "      <td>2.661933</td>\n",
       "    </tr>\n",
       "    <tr>\n",
       "      <td>81</td>\n",
       "      <td>port</td>\n",
       "      <td>1</td>\n",
       "      <td>1.341116</td>\n",
       "      <td>1.341116</td>\n",
       "    </tr>\n",
       "    <tr>\n",
       "      <td>82</td>\n",
       "      <td>CNN</td>\n",
       "      <td>1</td>\n",
       "      <td>7.617760</td>\n",
       "      <td>7.617760</td>\n",
       "    </tr>\n",
       "  </tbody>\n",
       "</table>\n",
       "<p>83 rows × 4 columns</p>\n",
       "</div>"
      ],
      "text/plain": [
       "       STORY  tf       idf      tfidf\n",
       "0     device   5  2.643327  13.216637\n",
       "1   platform   3  3.022640   9.067919\n",
       "2     hacker   3  4.573237  13.719711\n",
       "3   internet   3  3.920581  11.761744\n",
       "4      These   3  3.833570  11.500710\n",
       "..       ...  ..       ...        ...\n",
       "78  Guardian   1  5.826000   5.826000\n",
       "79       NEW   1  3.971440   3.971440\n",
       "80      know   1  2.661933   2.661933\n",
       "81      port   1  1.341116   1.341116\n",
       "82       CNN   1  7.617760   7.617760\n",
       "\n",
       "[83 rows x 4 columns]"
      ]
     },
     "execution_count": 29,
     "metadata": {},
     "output_type": "execute_result"
    }
   ],
   "source": [
    "tf1['tfidf'] = tf1['tf'] * tf1['idf']\n",
    "tf1"
   ]
  },
  {
   "cell_type": "code",
   "execution_count": 30,
   "metadata": {},
   "outputs": [
    {
     "data": {
      "text/plain": [
       "0       roadshow filing nomination paper attempt show ...\n",
       "1       These vulnerability could allowed hacker acces...\n",
       "2       People able include music video Facebook Insta...\n",
       "3       Jersey expected good start box office attentio...\n",
       "4       Xiaomis unveiling hint Samsung starting lose p...\n",
       "                              ...                        \n",
       "6097    Based video game franchise name Sonic Hedgehog...\n",
       "6098    seven state neglected decade sends onetwo memb...\n",
       "6099    Shanthnu made announcement Twitter shared pict...\n",
       "6100    Rock Jason Statham reprise role Fast Furious f...\n",
       "6101    But unlike past development never caught 3D TV...\n",
       "Name: STORY, Length: 6102, dtype: object"
      ]
     },
     "execution_count": 30,
     "metadata": {},
     "output_type": "execute_result"
    }
   ],
   "source": [
    "df1['STORY']"
   ]
  },
  {
   "cell_type": "code",
   "execution_count": 31,
   "metadata": {},
   "outputs": [
    {
     "name": "stdout",
     "output_type": "stream",
     "text": [
      "roadshow filing nomination paper attempt show strength ruling eastern UP region several minister ally party Varanasi filing nomination expected Friday 17 18 Lok Sabha seat region 2014 losing Azamgarh Samajwadi Party patriarch Mulayam Singh Yadav repeated performance 2017 assembly poll returned power Uttar Pradesh gap 15 year leader Modi visit Varanasi every month meet resident last five year Varanasi least 30 time Finance minister Arun Jaitley tweeted Modis roadshow culminated customary Ganga aarti express one indicationthat PM well way repeating even increasing 2014 victory margin\n"
     ]
    }
   ],
   "source": [
    "print(df1['STORY'][0])"
   ]
  },
  {
   "cell_type": "code",
   "execution_count": 32,
   "metadata": {},
   "outputs": [
    {
     "name": "stdout",
     "output_type": "stream",
     "text": [
      "Analysts Edelweiss Securities Ltd point increasing prevalence generic drug weigh pharmaceutical growth Regulatory intervention drug approval factor influencing sector unless sale seasonal illness drug see rise\n"
     ]
    }
   ],
   "source": [
    "print(df1['STORY'][5])"
   ]
  },
  {
   "cell_type": "code",
   "execution_count": 33,
   "metadata": {},
   "outputs": [],
   "source": [
    "from sklearn.model_selection import train_test_split"
   ]
  },
  {
   "cell_type": "code",
   "execution_count": 34,
   "metadata": {},
   "outputs": [],
   "source": [
    "from sklearn.feature_extraction.text import TfidfVectorizer"
   ]
  },
  {
   "cell_type": "code",
   "execution_count": 35,
   "metadata": {},
   "outputs": [],
   "source": [
    "from sklearn.pipeline import Pipeline"
   ]
  },
  {
   "cell_type": "code",
   "execution_count": 36,
   "metadata": {},
   "outputs": [],
   "source": [
    "from sklearn.svm import LinearSVC"
   ]
  },
  {
   "cell_type": "code",
   "execution_count": 37,
   "metadata": {},
   "outputs": [],
   "source": [
    "from sklearn.linear_model import LogisticRegression"
   ]
  },
  {
   "cell_type": "code",
   "execution_count": 38,
   "metadata": {},
   "outputs": [],
   "source": [
    "from sklearn.ensemble import RandomForestClassifier"
   ]
  },
  {
   "cell_type": "code",
   "execution_count": 39,
   "metadata": {},
   "outputs": [],
   "source": [
    "from sklearn.preprocessing import MinMaxScaler"
   ]
  },
  {
   "cell_type": "code",
   "execution_count": 40,
   "metadata": {},
   "outputs": [],
   "source": [
    "from sklearn import metrics"
   ]
  },
  {
   "cell_type": "code",
   "execution_count": 41,
   "metadata": {},
   "outputs": [],
   "source": [
    "from sklearn.neighbors import KNeighborsClassifier"
   ]
  },
  {
   "cell_type": "code",
   "execution_count": 42,
   "metadata": {},
   "outputs": [],
   "source": [
    "from nltk.tokenize import TweetTokenizer"
   ]
  },
  {
   "cell_type": "code",
   "execution_count": 43,
   "metadata": {},
   "outputs": [],
   "source": [
    "#tfidf = TfidfVectorizer()\n",
    "#Train = tfidf.fit_transform(df1['STORY'])\n",
    "#Test  = tfidf.fit_transform(df2['STORY'])"
   ]
  },
  {
   "cell_type": "code",
   "execution_count": 44,
   "metadata": {},
   "outputs": [],
   "source": [
    "tokenizer = TweetTokenizer()"
   ]
  },
  {
   "cell_type": "code",
   "execution_count": 45,
   "metadata": {},
   "outputs": [],
   "source": [
    "vectorizer = TfidfVectorizer(ngram_range=(1, 2), lowercase=True, tokenizer=tokenizer.tokenize)"
   ]
  },
  {
   "cell_type": "code",
   "execution_count": 46,
   "metadata": {},
   "outputs": [],
   "source": [
    "full_text = list(df1['STORY'].values) + list(df2['STORY'].values)"
   ]
  },
  {
   "cell_type": "code",
   "execution_count": 47,
   "metadata": {},
   "outputs": [
    {
     "data": {
      "text/plain": [
       "TfidfVectorizer(analyzer='word', binary=False, decode_error='strict',\n",
       "                dtype=<class 'numpy.float64'>, encoding='utf-8',\n",
       "                input='content', lowercase=True, max_df=1.0, max_features=None,\n",
       "                min_df=1, ngram_range=(1, 2), norm='l2', preprocessor=None,\n",
       "                smooth_idf=True, stop_words=None, strip_accents=None,\n",
       "                sublinear_tf=False, token_pattern='(?u)\\\\b\\\\w\\\\w+\\\\b',\n",
       "                tokenizer=<bound method TweetTokenizer.tokenize of <nltk.tokenize.casual.TweetTokenizer object at 0x0000023422E98048>>,\n",
       "                use_idf=True, vocabulary=None)"
      ]
     },
     "execution_count": 47,
     "metadata": {},
     "output_type": "execute_result"
    }
   ],
   "source": [
    "vectorizer.fit(full_text)"
   ]
  },
  {
   "cell_type": "code",
   "execution_count": 48,
   "metadata": {},
   "outputs": [],
   "source": [
    "train_vectorized = vectorizer.transform(df1['STORY'])"
   ]
  },
  {
   "cell_type": "code",
   "execution_count": 49,
   "metadata": {},
   "outputs": [],
   "source": [
    "test_vectorized = vectorizer.transform(df2['STORY'])"
   ]
  },
  {
   "cell_type": "code",
   "execution_count": null,
   "metadata": {},
   "outputs": [],
   "source": []
  },
  {
   "cell_type": "code",
   "execution_count": null,
   "metadata": {},
   "outputs": [],
   "source": []
  },
  {
   "cell_type": "code",
   "execution_count": 50,
   "metadata": {},
   "outputs": [],
   "source": [
    "X = train_vectorized"
   ]
  },
  {
   "cell_type": "code",
   "execution_count": 51,
   "metadata": {},
   "outputs": [],
   "source": [
    "y = df1[['SECTION']]"
   ]
  },
  {
   "cell_type": "code",
   "execution_count": 52,
   "metadata": {},
   "outputs": [],
   "source": [
    "X_train, X_test, y_train, y_test = train_test_split(X, y, test_size=0.3, random_state=100)"
   ]
  },
  {
   "cell_type": "markdown",
   "metadata": {},
   "source": [
    "# Logistic"
   ]
  },
  {
   "cell_type": "code",
   "execution_count": 53,
   "metadata": {},
   "outputs": [],
   "source": [
    "log_pipe_line = Pipeline([('log',LogisticRegression())])"
   ]
  },
  {
   "cell_type": "code",
   "execution_count": 54,
   "metadata": {},
   "outputs": [
    {
     "data": {
      "text/plain": [
       "Pipeline(memory=None,\n",
       "         steps=[('log',\n",
       "                 LogisticRegression(C=1.0, class_weight=None, dual=False,\n",
       "                                    fit_intercept=True, intercept_scaling=1,\n",
       "                                    l1_ratio=None, max_iter=100,\n",
       "                                    multi_class='warn', n_jobs=None,\n",
       "                                    penalty='l2', random_state=None,\n",
       "                                    solver='warn', tol=0.0001, verbose=0,\n",
       "                                    warm_start=False))],\n",
       "         verbose=False)"
      ]
     },
     "execution_count": 54,
     "metadata": {},
     "output_type": "execute_result"
    }
   ],
   "source": [
    "log_pipe_line.fit(X_train,y_train)"
   ]
  },
  {
   "cell_type": "code",
   "execution_count": 55,
   "metadata": {},
   "outputs": [],
   "source": [
    "pred_log = log_pipe_line.predict(X_test)"
   ]
  },
  {
   "cell_type": "code",
   "execution_count": 56,
   "metadata": {},
   "outputs": [
    {
     "name": "stdout",
     "output_type": "stream",
     "text": [
      "              precision    recall  f1-score   support\n",
      "\n",
      "           0       0.98      0.91      0.95       425\n",
      "           1       0.92      0.99      0.95       672\n",
      "           2       0.95      0.98      0.96       455\n",
      "           3       0.99      0.90      0.94       279\n",
      "\n",
      "    accuracy                           0.95      1831\n",
      "   macro avg       0.96      0.94      0.95      1831\n",
      "weighted avg       0.95      0.95      0.95      1831\n",
      "\n"
     ]
    }
   ],
   "source": [
    "print(metrics.classification_report(y_test,pred_log))"
   ]
  },
  {
   "cell_type": "code",
   "execution_count": 57,
   "metadata": {},
   "outputs": [
    {
     "data": {
      "text/plain": [
       "array([[387,  22,  15,   1],\n",
       "       [  3, 662,   6,   1],\n",
       "       [  2,   9, 444,   0],\n",
       "       [  1,  26,   2, 250]], dtype=int64)"
      ]
     },
     "execution_count": 57,
     "metadata": {},
     "output_type": "execute_result"
    }
   ],
   "source": [
    "metrics.confusion_matrix(y_test,pred_log)"
   ]
  },
  {
   "cell_type": "code",
   "execution_count": 58,
   "metadata": {},
   "outputs": [
    {
     "data": {
      "text/plain": [
       "0.9519388312397596"
      ]
     },
     "execution_count": 58,
     "metadata": {},
     "output_type": "execute_result"
    }
   ],
   "source": [
    "metrics.accuracy_score(y_test,pred_log)"
   ]
  },
  {
   "cell_type": "code",
   "execution_count": 59,
   "metadata": {},
   "outputs": [],
   "source": [
    "Test_data_log = log_pipe_line.predict(test_vectorized)"
   ]
  },
  {
   "cell_type": "code",
   "execution_count": 60,
   "metadata": {},
   "outputs": [
    {
     "data": {
      "text/plain": [
       "array([2, 3, 2, ..., 1, 2, 2], dtype=int64)"
      ]
     },
     "execution_count": 60,
     "metadata": {},
     "output_type": "execute_result"
    }
   ],
   "source": [
    "Test_data_log"
   ]
  },
  {
   "cell_type": "code",
   "execution_count": 61,
   "metadata": {},
   "outputs": [
    {
     "data": {
      "text/plain": [
       "1526"
      ]
     },
     "execution_count": 61,
     "metadata": {},
     "output_type": "execute_result"
    }
   ],
   "source": [
    "len(Test_data_log)"
   ]
  },
  {
   "cell_type": "markdown",
   "metadata": {},
   "source": [
    "# Random Forest"
   ]
  },
  {
   "cell_type": "code",
   "execution_count": 62,
   "metadata": {},
   "outputs": [],
   "source": [
    "rf_pipe_line = Pipeline([('rf',RandomForestClassifier())])"
   ]
  },
  {
   "cell_type": "code",
   "execution_count": 63,
   "metadata": {},
   "outputs": [
    {
     "data": {
      "text/plain": [
       "Pipeline(memory=None,\n",
       "         steps=[('rf',\n",
       "                 RandomForestClassifier(bootstrap=True, class_weight=None,\n",
       "                                        criterion='gini', max_depth=None,\n",
       "                                        max_features='auto',\n",
       "                                        max_leaf_nodes=None,\n",
       "                                        min_impurity_decrease=0.0,\n",
       "                                        min_impurity_split=None,\n",
       "                                        min_samples_leaf=1, min_samples_split=2,\n",
       "                                        min_weight_fraction_leaf=0.0,\n",
       "                                        n_estimators=10, n_jobs=None,\n",
       "                                        oob_score=False, random_state=None,\n",
       "                                        verbose=0, warm_start=False))],\n",
       "         verbose=False)"
      ]
     },
     "execution_count": 63,
     "metadata": {},
     "output_type": "execute_result"
    }
   ],
   "source": [
    "rf_pipe_line.fit(X_train,y_train)"
   ]
  },
  {
   "cell_type": "code",
   "execution_count": 64,
   "metadata": {},
   "outputs": [],
   "source": [
    "pred_rf = rf_pipe_line.predict(X_test)"
   ]
  },
  {
   "cell_type": "code",
   "execution_count": 65,
   "metadata": {},
   "outputs": [
    {
     "name": "stdout",
     "output_type": "stream",
     "text": [
      "              precision    recall  f1-score   support\n",
      "\n",
      "           0       0.95      0.88      0.91       425\n",
      "           1       0.91      0.91      0.91       672\n",
      "           2       0.83      0.96      0.89       455\n",
      "           3       0.95      0.82      0.88       279\n",
      "\n",
      "    accuracy                           0.90      1831\n",
      "   macro avg       0.91      0.89      0.90      1831\n",
      "weighted avg       0.90      0.90      0.90      1831\n",
      "\n"
     ]
    }
   ],
   "source": [
    "print(metrics.classification_report(y_test,pred_rf))"
   ]
  },
  {
   "cell_type": "code",
   "execution_count": 66,
   "metadata": {},
   "outputs": [
    {
     "data": {
      "text/plain": [
       "array([[373,  25,  24,   3],\n",
       "       [  5, 610,  48,   9],\n",
       "       [ 10,   9, 436,   0],\n",
       "       [  6,  28,  16, 229]], dtype=int64)"
      ]
     },
     "execution_count": 66,
     "metadata": {},
     "output_type": "execute_result"
    }
   ],
   "source": [
    "metrics.confusion_matrix(y_test,pred_rf)"
   ]
  },
  {
   "cell_type": "code",
   "execution_count": 67,
   "metadata": {},
   "outputs": [
    {
     "data": {
      "text/plain": [
       "0.9000546149645002"
      ]
     },
     "execution_count": 67,
     "metadata": {},
     "output_type": "execute_result"
    }
   ],
   "source": [
    "metrics.accuracy_score(y_test,pred_rf)"
   ]
  },
  {
   "cell_type": "markdown",
   "metadata": {},
   "source": [
    "# KNN "
   ]
  },
  {
   "cell_type": "code",
   "execution_count": 68,
   "metadata": {},
   "outputs": [],
   "source": [
    "knn_pipe_line = Pipeline([('knn',(KNeighborsClassifier()))])"
   ]
  },
  {
   "cell_type": "code",
   "execution_count": 69,
   "metadata": {},
   "outputs": [
    {
     "data": {
      "text/plain": [
       "Pipeline(memory=None,\n",
       "         steps=[('knn',\n",
       "                 KNeighborsClassifier(algorithm='auto', leaf_size=30,\n",
       "                                      metric='minkowski', metric_params=None,\n",
       "                                      n_jobs=None, n_neighbors=5, p=2,\n",
       "                                      weights='uniform'))],\n",
       "         verbose=False)"
      ]
     },
     "execution_count": 69,
     "metadata": {},
     "output_type": "execute_result"
    }
   ],
   "source": [
    "knn_pipe_line.fit(X_train,y_train)"
   ]
  },
  {
   "cell_type": "code",
   "execution_count": 70,
   "metadata": {},
   "outputs": [],
   "source": [
    "pred_knn=knn_pipe_line.predict(X_test)"
   ]
  },
  {
   "cell_type": "code",
   "execution_count": 71,
   "metadata": {},
   "outputs": [
    {
     "name": "stdout",
     "output_type": "stream",
     "text": [
      "              precision    recall  f1-score   support\n",
      "\n",
      "           0       0.91      0.96      0.93       425\n",
      "           1       0.91      0.97      0.94       672\n",
      "           2       0.99      0.87      0.93       455\n",
      "           3       0.94      0.91      0.93       279\n",
      "\n",
      "    accuracy                           0.93      1831\n",
      "   macro avg       0.94      0.93      0.93      1831\n",
      "weighted avg       0.93      0.93      0.93      1831\n",
      "\n"
     ]
    }
   ],
   "source": [
    "print(metrics.classification_report(y_test,pred_knn))"
   ]
  },
  {
   "cell_type": "code",
   "execution_count": 72,
   "metadata": {},
   "outputs": [
    {
     "data": {
      "text/plain": [
       "array([[406,  15,   2,   2],\n",
       "       [ 12, 649,   2,   9],\n",
       "       [ 24,  29, 396,   6],\n",
       "       [  6,  17,   1, 255]], dtype=int64)"
      ]
     },
     "execution_count": 72,
     "metadata": {},
     "output_type": "execute_result"
    }
   ],
   "source": [
    "metrics.confusion_matrix(y_test,pred_knn)"
   ]
  },
  {
   "cell_type": "code",
   "execution_count": 73,
   "metadata": {},
   "outputs": [
    {
     "data": {
      "text/plain": [
       "0.9317312943746586"
      ]
     },
     "execution_count": 73,
     "metadata": {},
     "output_type": "execute_result"
    }
   ],
   "source": [
    "metrics.accuracy_score(y_test,pred_knn)"
   ]
  },
  {
   "cell_type": "markdown",
   "metadata": {},
   "source": [
    "# SVM"
   ]
  },
  {
   "cell_type": "code",
   "execution_count": 74,
   "metadata": {},
   "outputs": [],
   "source": [
    "svm_pipe_line = Pipeline([('svm',(LinearSVC()))])"
   ]
  },
  {
   "cell_type": "code",
   "execution_count": 75,
   "metadata": {},
   "outputs": [
    {
     "data": {
      "text/plain": [
       "Pipeline(memory=None,\n",
       "         steps=[('svm',\n",
       "                 LinearSVC(C=1.0, class_weight=None, dual=True,\n",
       "                           fit_intercept=True, intercept_scaling=1,\n",
       "                           loss='squared_hinge', max_iter=1000,\n",
       "                           multi_class='ovr', penalty='l2', random_state=None,\n",
       "                           tol=0.0001, verbose=0))],\n",
       "         verbose=False)"
      ]
     },
     "execution_count": 75,
     "metadata": {},
     "output_type": "execute_result"
    }
   ],
   "source": [
    "svm_pipe_line.fit(X_train,y_train)"
   ]
  },
  {
   "cell_type": "code",
   "execution_count": 76,
   "metadata": {},
   "outputs": [],
   "source": [
    "svm_pred = svm_pipe_line.predict(X_test)"
   ]
  },
  {
   "cell_type": "code",
   "execution_count": 77,
   "metadata": {},
   "outputs": [
    {
     "name": "stdout",
     "output_type": "stream",
     "text": [
      "              precision    recall  f1-score   support\n",
      "\n",
      "           0       0.99      0.94      0.96       425\n",
      "           1       0.96      0.97      0.97       672\n",
      "           2       0.95      0.99      0.97       455\n",
      "           3       0.99      0.96      0.97       279\n",
      "\n",
      "    accuracy                           0.97      1831\n",
      "   macro avg       0.97      0.97      0.97      1831\n",
      "weighted avg       0.97      0.97      0.97      1831\n",
      "\n"
     ]
    }
   ],
   "source": [
    "print(metrics.classification_report(y_test,svm_pred))"
   ]
  },
  {
   "cell_type": "code",
   "execution_count": 78,
   "metadata": {},
   "outputs": [
    {
     "data": {
      "text/plain": [
       "array([[401,  14,   9,   1],\n",
       "       [  4, 653,  13,   2],\n",
       "       [  2,   3, 450,   0],\n",
       "       [  0,  10,   2, 267]], dtype=int64)"
      ]
     },
     "execution_count": 78,
     "metadata": {},
     "output_type": "execute_result"
    }
   ],
   "source": [
    "metrics.confusion_matrix(y_test,svm_pred)"
   ]
  },
  {
   "cell_type": "code",
   "execution_count": 79,
   "metadata": {},
   "outputs": [
    {
     "data": {
      "text/plain": [
       "0.9672310212998362"
      ]
     },
     "execution_count": 79,
     "metadata": {},
     "output_type": "execute_result"
    }
   ],
   "source": [
    "metrics.accuracy_score(y_test,svm_pred)"
   ]
  },
  {
   "cell_type": "code",
   "execution_count": 80,
   "metadata": {},
   "outputs": [],
   "source": [
    "svm_pred = svm_pipe_line.predict(test_vectorized)"
   ]
  },
  {
   "cell_type": "code",
   "execution_count": 81,
   "metadata": {},
   "outputs": [
    {
     "data": {
      "text/plain": [
       "array([2, 3, 2, ..., 1, 0, 2], dtype=int64)"
      ]
     },
     "execution_count": 81,
     "metadata": {},
     "output_type": "execute_result"
    }
   ],
   "source": [
    "svm_pred"
   ]
  },
  {
   "cell_type": "code",
   "execution_count": 84,
   "metadata": {},
   "outputs": [
    {
     "data": {
      "text/plain": [
       "1526"
      ]
     },
     "execution_count": 84,
     "metadata": {},
     "output_type": "execute_result"
    }
   ],
   "source": [
    "len(svm_pred)"
   ]
  },
  {
   "cell_type": "markdown",
   "metadata": {},
   "source": [
    "\n"
   ]
  },
  {
   "cell_type": "code",
   "execution_count": 85,
   "metadata": {},
   "outputs": [
    {
     "data": {
      "text/plain": [
       "array([2, 3, 2, ..., 1, 0, 2], dtype=int64)"
      ]
     },
     "execution_count": 85,
     "metadata": {},
     "output_type": "execute_result"
    }
   ],
   "source": [
    "svm_pred"
   ]
  },
  {
   "cell_type": "code",
   "execution_count": 86,
   "metadata": {},
   "outputs": [],
   "source": [
    "submit = pd.DataFrame({'Predictions': svm_pred })\n",
    "\n",
    "submit.to_csv('News_Category_Submission.csv',index=False)"
   ]
  },
  {
   "cell_type": "code",
   "execution_count": null,
   "metadata": {},
   "outputs": [],
   "source": []
  }
 ],
 "metadata": {
  "kernelspec": {
   "display_name": "Python 3",
   "language": "python",
   "name": "python3"
  },
  "language_info": {
   "codemirror_mode": {
    "name": "ipython",
    "version": 3
   },
   "file_extension": ".py",
   "mimetype": "text/x-python",
   "name": "python",
   "nbconvert_exporter": "python",
   "pygments_lexer": "ipython3",
   "version": "3.7.4"
  }
 },
 "nbformat": 4,
 "nbformat_minor": 2
}
